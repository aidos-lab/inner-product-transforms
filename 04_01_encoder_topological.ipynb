{
 "cells": [
  {
   "cell_type": "markdown",
   "metadata": {},
   "source": [
    "## Prepare imports"
   ]
  },
  {
   "cell_type": "code",
   "execution_count": 1,
   "metadata": {},
   "outputs": [
    {
     "name": "stdout",
     "output_type": "stream",
     "text": [
      "4000\n"
     ]
    }
   ],
   "source": [
    "from datasets.topological import DataModule, DataModuleConfig\n",
    "import torch\n",
    "import matplotlib.pyplot as plt\n",
    "from omegaconf import OmegaConf\n",
    "\n",
    "from models.vae import VanillaVAE\n",
    "from models.vae import BaseModel as BaseVAE\n",
    "from models.encoder import BaseModel as EctEncoder\n",
    "from layers.ect import EctLayer, EctConfig\n",
    "\n",
    "from metrics.metrics import get_mse_metrics\n",
    "from metrics.accuracies import compute_mse_accuracies\n",
    "from metrics.loss import compute_mse_loss_fn\n",
    "from layers.directions import generate_directions\n",
    "\n",
    "\n",
    "DEVICE = \"cuda:0\"\n",
    "\n",
    "config = OmegaConf.load(\"./configs/config_encoder_topological.yaml\")\n",
    "\n",
    "dm = DataModule(DataModuleConfig())\n",
    "\n",
    "print(len(dm.test_ds))\n",
    "\n",
    "# for batch in dm.test_dataloader():\n",
    "#     print(batch.y)"
   ]
  },
  {
   "cell_type": "markdown",
   "metadata": {},
   "source": [
    "## Load Models and Data"
   ]
  },
  {
   "cell_type": "code",
   "execution_count": 2,
   "metadata": {},
   "outputs": [],
   "source": [
    "\n",
    "\n",
    "layer = EctLayer(\n",
    "    EctConfig(\n",
    "        num_thetas=config.layer.ect_size,\n",
    "        bump_steps=config.layer.ect_size,\n",
    "        normalized=True,\n",
    "        device=DEVICE,\n",
    "    ),\n",
    "    v=generate_directions(config.layer.ect_size,config.layer.dim, DEVICE),\n",
    ")\n",
    "\n",
    "# Load the encoder \n",
    "\n",
    "ect_encoder_litmodel = EctEncoder.load_from_checkpoint(\n",
    "    f\"./trained_models/ectencoder_topological.ckpt\",\n",
    "    layer=layer,\n",
    "    ect_size=config.layer.ect_size,\n",
    "    hidden_size=config.model.hidden_size,\n",
    "    num_pts=config.model.num_pts,\n",
    "    num_dims=config.model.num_dims,\n",
    "    learning_rate=config.model.learning_rate,\n",
    ").to(DEVICE)\n"
   ]
  },
  {
   "cell_type": "markdown",
   "metadata": {},
   "source": [
    "## Generate an ECT and use VAE as autoencoder to recreate the ECT"
   ]
  },
  {
   "cell_type": "code",
   "execution_count": 3,
   "metadata": {},
   "outputs": [
    {
     "data": {
      "text/plain": [
       "4000"
      ]
     },
     "execution_count": 3,
     "metadata": {},
     "output_type": "execute_result"
    }
   ],
   "source": [
    "len(dm.test_ds)"
   ]
  },
  {
   "cell_type": "code",
   "execution_count": 4,
   "metadata": {},
   "outputs": [
    {
     "name": "stdout",
     "output_type": "stream",
     "text": [
      "[   0    1    2    3    4    5    6    7    8    9   10   11   12   13\n",
      "   14   15 1000 1001 1002 1003 1004 1005 1006 1007 1008 1009 1010 1011\n",
      " 1012 1013 1014 1015 2000 2001 2002 2003 2004 2005 2006 2007 2008 2009\n",
      " 2010 2011 2012 2013 2014 2015 3000 3001 3002 3003 3004 3005 3006 3007\n",
      " 3008 3009 3010 3011 3012 3013 3014 3015]\n"
     ]
    }
   ],
   "source": [
    "import numpy as np\n",
    "from torch_geometric.data import Batch\n",
    "# idxs = np.random.choice(list(range(4000)),64).tolist()\n",
    "idxs = np.hstack([\n",
    "    np.arange(0,16,1),\n",
    "    np.arange(1000,1016,1),\n",
    "    np.arange(2000,2016,1),\n",
    "    np.arange(3000,3016,1),\n",
    "])\n",
    "\n",
    "print(idxs)"
   ]
  },
  {
   "cell_type": "code",
   "execution_count": 5,
   "metadata": {},
   "outputs": [
    {
     "name": "stdout",
     "output_type": "stream",
     "text": [
      "DataBatch(x=[65536, 3], y=[64], batch=[65536], ptr=[65])\n"
     ]
    }
   ],
   "source": [
    "\n",
    "features = Batch.from_data_list([dm.test_ds[el] for el in idxs])\n",
    "\n",
    "print(features)\n",
    "features.to(DEVICE)\n",
    "ect = layer(features,features.batch).unsqueeze(1)\n",
    "\n",
    "with torch.no_grad():\n",
    "    decoded = ect_encoder_litmodel.model.forward(ect)\n",
    "\n",
    "import pyvista as pv\n",
    "\n",
    "pl = pv.Plotter(shape=(8, 8), window_size=[1600, 1600],border=False,polygon_smoothing=True)\n",
    "\n",
    "batch = features.x.cpu().detach().view(-1,1024,3).numpy()\n",
    "\n"
   ]
  },
  {
   "cell_type": "code",
   "execution_count": 6,
   "metadata": {},
   "outputs": [],
   "source": [
    "# for row in range(8):\n",
    "#     for col in range(8):\n",
    "#         points = batch[8*row + col].reshape(-1, 3)\n",
    "#         pl.subplot(row, col)\n",
    "#         actor = pl.add_points(\n",
    "#             points,\n",
    "#             style=\"points\",\n",
    "#             emissive=False,\n",
    "#             show_scalar_bar=False,\n",
    "#             render_points_as_spheres=True,\n",
    "#             scalars=points[:, 2],\n",
    "#             point_size=5,\n",
    "#             ambient=0.2, \n",
    "#             diffuse=0.8, \n",
    "#             specular=0.8,\n",
    "#             specular_power=40, \n",
    "#             smooth_shading=True\n",
    "#         )\n",
    "\n",
    "\n",
    "# pl.background_color = \"w\"\n",
    "# pl.link_views()\n",
    "# pl.camera_position = \"yz\"\n",
    "# pos = pl.camera.position\n",
    "# pl.camera.position = (pos[0],pos[1],pos[2]+3)\n",
    "# pl.camera.azimuth = -45\n",
    "# pl.camera.elevation = 10\n",
    "\n",
    "# # create a top down light\n",
    "# light = pv.Light(position=(0, 0, 3), positional=True,\n",
    "#                 cone_angle=50, exponent=20, intensity=.2)\n",
    "# pl.add_light(light)\n",
    "# pl.camera.zoom(1.3)\n",
    "# # pl.screenshot(\"./figures/img/topological/reconstructed_pointcloud.png\",transparent_background=True,scale=2)\n",
    "# pl.show()\n",
    "# # path = pl.generate_orbital_path(n_points=64, shift=2, factor=3.0)\n",
    "# # pl.open_gif(\"./figures/img/topological/reconstructed_pointcloud_full.gif\")\n",
    "# # pl.orbit_on_path(path, write_frames=True)\n",
    "# # pl.close()\n"
   ]
  },
  {
   "cell_type": "code",
   "execution_count": 7,
   "metadata": {},
   "outputs": [
    {
     "data": {
      "application/vnd.jupyter.widget-view+json": {
       "model_id": "5510a229862648cb89de9b8bcf82bc8e",
       "version_major": 2,
       "version_minor": 0
      },
      "text/plain": [
       "Widget(value='<iframe src=\"http://localhost:57647/index.html?ui=P_0x22af6ab8880_1&reconnect=auto\" class=\"pyvis…"
      ]
     },
     "metadata": {},
     "output_type": "display_data"
    }
   ],
   "source": [
    "import pyvista as pv\n",
    "\n",
    "pl = pv.Plotter(shape=(8, 8), window_size=[1600, 1600],border=False,polygon_smoothing=True,off_screen=True)\n",
    "\n",
    "batch = decoded.cpu().detach().numpy()\n",
    "\n",
    "\n",
    "for row in range(8):\n",
    "    for col in range(8):\n",
    "        points = batch[8*row + col].reshape(-1, 3)\n",
    "        pl.subplot(row, col)\n",
    "        actor = pl.add_points(\n",
    "            points,\n",
    "            style=\"points\",\n",
    "            emissive=False,\n",
    "            show_scalar_bar=False,\n",
    "            render_points_as_spheres=True,\n",
    "            scalars=points[:, 2],\n",
    "            point_size=5,\n",
    "            ambient=0.2, \n",
    "            diffuse=0.8, \n",
    "            specular=0.8,\n",
    "            specular_power=40, \n",
    "            smooth_shading=True\n",
    "        )\n",
    "\n",
    "\n",
    "pl.background_color = \"w\"\n",
    "pl.link_views()\n",
    "pl.camera_position = \"yz\"\n",
    "pos = pl.camera.position\n",
    "pl.camera.position = (pos[0],pos[1],pos[2]+3)\n",
    "pl.camera.azimuth = -45\n",
    "pl.camera.elevation = 10\n",
    "\n",
    "# create a top down light\n",
    "light = pv.Light(position=(0, 0, 3), positional=True,\n",
    "                cone_angle=50, exponent=20, intensity=.2)\n",
    "pl.add_light(light)\n",
    "pl.camera.zoom(1.3)\n",
    "pl.screenshot(\"./figures/img/topological/reconstructed_pointcloud.png\",transparent_background=True,scale=2)\n",
    "pl.show()\n",
    "path = pl.generate_orbital_path(n_points=64, shift=2, factor=3.0)\n",
    "pl.open_gif(\"./figures/img/topological/reconstructed_pointcloud.gif\")\n",
    "pl.orbit_on_path(path, write_frames=True)\n",
    "pl.close()\n"
   ]
  },
  {
   "cell_type": "code",
   "execution_count": null,
   "metadata": {},
   "outputs": [],
   "source": []
  }
 ],
 "metadata": {
  "kernelspec": {
   "display_name": "Python 3",
   "language": "python",
   "name": "python3"
  },
  "language_info": {
   "codemirror_mode": {
    "name": "ipython",
    "version": 3
   },
   "file_extension": ".py",
   "mimetype": "text/x-python",
   "name": "python",
   "nbconvert_exporter": "python",
   "pygments_lexer": "ipython3",
   "version": "3.10.11"
  }
 },
 "nbformat": 4,
 "nbformat_minor": 2
}
