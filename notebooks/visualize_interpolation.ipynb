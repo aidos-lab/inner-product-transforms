{
 "cells": [
  {
   "cell_type": "code",
   "execution_count": 9,
   "metadata": {},
   "outputs": [
    {
     "name": "stdout",
     "output_type": "stream",
     "text": [
      "10\n"
     ]
    }
   ],
   "source": [
    "import torch\n",
    "import pyvista as pv \n",
    "import  numpy as np \n",
    "\n",
    "\n",
    "\n",
    "num_pc = 10 \n",
    "point_size = 5\n",
    "\n",
    "interp = torch.load(\"./results/interpolation/linear_airplane.pt\").cpu().numpy()\n",
    "steps = np.linspace(0,99,num=10,endpoint=True).astype(int)\n",
    "\n",
    "print(len(steps))\n",
    "\n",
    "interp = interp[steps]\n",
    "\n",
    "\n",
    "\n"
   ]
  },
  {
   "cell_type": "code",
   "execution_count": 10,
   "metadata": {},
   "outputs": [
    {
     "data": {
      "application/vnd.jupyter.widget-view+json": {
       "model_id": "e2493339ad4c498c9e840132b3c38b64",
       "version_major": 2,
       "version_minor": 0
      },
      "text/plain": [
       "Widget(value='<iframe src=\"http://localhost:37377/index.html?ui=P_0x7fa3ffd0dbd0_6&reconnect=auto\" class=\"pyvi…"
      ]
     },
     "metadata": {},
     "output_type": "display_data"
    }
   ],
   "source": [
    "pl = pv.Plotter(\n",
    "    shape=(1, num_pc),\n",
    "    window_size=[200 * num_pc, 200],\n",
    "    border=False,\n",
    "    polygon_smoothing=True,\n",
    ")\n",
    "\n",
    "for col in range(num_pc):\n",
    "    # First plat\n",
    "    pl.subplot(0, col)\n",
    "    actor = pl.add_points(\n",
    "        interp[col].reshape(-1, 3),\n",
    "        style=\"points\",\n",
    "        emissive=False,\n",
    "        show_scalar_bar=False,\n",
    "        render_points_as_spheres=True,\n",
    "        color=\"lightgray\",\n",
    "        point_size=point_size,\n",
    "        ambient=0.2,\n",
    "        diffuse=0.8,\n",
    "        specular=0.8,\n",
    "        specular_power=40,\n",
    "        smooth_shading=True,\n",
    "    )\n",
    "\n",
    "pl.background_color = \"w\"\n",
    "pl.link_views()\n",
    "pl.camera_position = \"xy\"\n",
    "pos = pl.camera.position\n",
    "pl.camera.position = (pos[0], pos[1] + 3, pos[2])\n",
    "pl.camera.position = (10, 0, 0)\n",
    "pl.camera.azimuth = 45\n",
    "pl.camera.elevation = 30\n",
    "# create a top down light\n",
    "light = pv.Light(\n",
    "    position=(0, 0, 0), positional=True, cone_angle=50, exponent=20, intensity=0.2\n",
    ")\n",
    "pl.add_light(light)\n",
    "pl.camera.zoom(0.7)\n",
    "pl.show(return_img=True)\n",
    "pl.save_graphic(\"./figures/interpolation/airplane.pdf\")  \n"
   ]
  },
  {
   "cell_type": "code",
   "execution_count": null,
   "metadata": {},
   "outputs": [],
   "source": []
  },
  {
   "cell_type": "code",
   "execution_count": 11,
   "metadata": {},
   "outputs": [
    {
     "name": "stdout",
     "output_type": "stream",
     "text": [
      "(100, 2028, 3)\n"
     ]
    },
    {
     "data": {
      "application/vnd.jupyter.widget-view+json": {
       "model_id": "54accec6504244418de7540bf8e3c634",
       "version_major": 2,
       "version_minor": 0
      },
      "text/plain": [
       "Widget(value='<iframe src=\"http://localhost:37377/index.html?ui=P_0x7fa407ce0e80_7&reconnect=auto\" class=\"pyvi…"
      ]
     },
     "metadata": {},
     "output_type": "display_data"
    }
   ],
   "source": [
    "num_pc = 10 \n",
    "point_size = 5\n",
    "\n",
    "rendered_steps = torch.load(\"./results/rendered_ect/airplane/full_orbit.pt\").cpu().numpy()\n",
    "\n",
    "print(rendered_steps.shape)\n",
    "\n",
    "\n",
    "pl = pv.Plotter(\n",
    "    shape=(1, num_pc),\n",
    "    window_size=[200 * num_pc, 200],\n",
    "    border=False,\n",
    "    polygon_smoothing=True,\n",
    ")\n",
    "\n",
    "for col in range(num_pc):\n",
    "    # First plat\n",
    "    pl.subplot(0, col)\n",
    "    actor = pl.add_points(\n",
    "        rendered_steps[col].reshape(-1, 3),\n",
    "        style=\"points\",\n",
    "        emissive=False,\n",
    "        show_scalar_bar=False,\n",
    "        render_points_as_spheres=True,\n",
    "        color=\"lightgray\",\n",
    "        point_size=point_size,\n",
    "        ambient=0.2,\n",
    "        diffuse=0.8,\n",
    "        specular=0.8,\n",
    "        specular_power=40,\n",
    "        smooth_shading=True,\n",
    "    )\n",
    "\n",
    "pl.background_color = \"w\"\n",
    "pl.link_views()\n",
    "pl.camera_position = \"xy\"\n",
    "pos = pl.camera.position\n",
    "pl.camera.position = (pos[0], pos[1] + 3, pos[2])\n",
    "pl.camera.position = (10, 0, 0)\n",
    "pl.camera.azimuth = 45\n",
    "pl.camera.elevation = 30\n",
    "# create a top down light\n",
    "light = pv.Light(\n",
    "    position=(0, 0, 0), positional=True, cone_angle=50, exponent=20, intensity=0.2\n",
    ")\n",
    "pl.add_light(light)\n",
    "pl.camera.zoom(0.7)\n",
    "pl.show(return_img=True);\n",
    "# pl.save_graphic(\"./figures/interpolation/airplane.pdf\")  "
   ]
  },
  {
   "cell_type": "code",
   "execution_count": 13,
   "metadata": {},
   "outputs": [
    {
     "data": {
      "application/vnd.jupyter.widget-view+json": {
       "model_id": "278595d334e1415d8fe40999252210c5",
       "version_major": 2,
       "version_minor": 0
      },
      "text/plain": [
       "Widget(value='<iframe src=\"http://localhost:37377/index.html?ui=P_0x7fa3ffcef670_9&reconnect=auto\" class=\"pyvi…"
      ]
     },
     "metadata": {},
     "output_type": "display_data"
    }
   ],
   "source": [
    "pv.plot(rendered_steps[-1])"
   ]
  }
 ],
 "metadata": {
  "kernelspec": {
   "display_name": "Python 3",
   "language": "python",
   "name": "python3"
  },
  "language_info": {
   "codemirror_mode": {
    "name": "ipython",
    "version": 3
   },
   "file_extension": ".py",
   "mimetype": "text/x-python",
   "name": "python",
   "nbconvert_exporter": "python",
   "pygments_lexer": "ipython3",
   "version": "3.10.12"
  }
 },
 "nbformat": 4,
 "nbformat_minor": 2
}
