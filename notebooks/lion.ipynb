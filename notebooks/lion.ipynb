{
 "cells": [
  {
   "cell_type": "code",
   "execution_count": 6,
   "id": "224c0afa",
   "metadata": {},
   "outputs": [
    {
     "name": "stdout",
     "output_type": "stream",
     "text": [
      "torch.Size([405, 2048, 3])\n"
     ]
    }
   ],
   "source": [
    "import torch \n",
    "import pyvista as pv \n",
    "pv.set_jupyter_backend(\"trame\")\n",
    "samples = torch.load(\"./results/samples.pt\")#.cpu().numpy()\n",
    "validation = torch.load(\"./data/shapenet/airplane/prod/val.pt\")[:, 2048:2*2048, :]#.cpu().numpy()\n",
    "validation_lion = torch.load(\"./results/lion_ckpt/test_data/ref_val_airplane.pt\")[\"ref\"]#.cpu().numpy()\n",
    "from shapesynthesis.metrics.evaluation import compute_all_metrics\n",
    "# compute_all_metrics(sample_pcs=validation_lion,ref_pcs=validation,batch_size=128)\n",
    "print(validation.shape)"
   ]
  },
  {
   "cell_type": "code",
   "execution_count": 3,
   "id": "647e109a",
   "metadata": {},
   "outputs": [
    {
     "name": "stderr",
     "output_type": "stream",
     "text": [
      "100%|██████████| 405/405 [03:31<00:00,  1.92it/s]\n",
      "100%|██████████| 405/405 [03:31<00:00,  1.91it/s]\n",
      "100%|██████████| 405/405 [03:31<00:00,  1.92it/s]\n"
     ]
    },
    {
     "name": "stdout",
     "output_type": "stream",
     "text": [
      "{'lgan_mmd-CD': tensor(3.2490e-07), 'lgan_cov-CD': tensor(1.), 'lgan_mmd_smp-CD': tensor(3.2490e-07), 'lgan_mmd-EMD': tensor(1.1703e-06), 'lgan_cov-EMD': tensor(1.), 'lgan_mmd_smp-EMD': tensor(1.1703e-06), '1-NN-CD-acc_t': tensor(0.), '1-NN-CD-acc_f': tensor(0.), '1-NN-CD-acc': tensor(0.), '1-NN-EMD-acc_t': tensor(0.), '1-NN-EMD-acc_f': tensor(0.), '1-NN-EMD-acc': tensor(0.)}\n"
     ]
    },
    {
     "name": "stderr",
     "output_type": "stream",
     "text": [
      "100%|██████████| 405/405 [04:06<00:00,  1.64it/s]\n",
      "100%|██████████| 405/405 [03:32<00:00,  1.90it/s]\n",
      "100%|██████████| 480/480 [04:53<00:00,  1.63it/s]\n"
     ]
    },
    {
     "name": "stdout",
     "output_type": "stream",
     "text": [
      "{'lgan_mmd-CD': tensor(0.0150), 'lgan_cov-CD': tensor(0.5358), 'lgan_mmd_smp-CD': tensor(0.0600), 'lgan_mmd-EMD': tensor(0.2464), 'lgan_cov-EMD': tensor(0.5531), 'lgan_mmd_smp-EMD': tensor(0.5180), '1-NN-CD-acc_t': tensor(0.7531), '1-NN-CD-acc_f': tensor(0.6167), '1-NN-CD-acc': tensor(0.6791), '1-NN-EMD-acc_t': tensor(0.5975), '1-NN-EMD-acc_f': tensor(0.5958), '1-NN-EMD-acc': tensor(0.5966)}\n"
     ]
    },
    {
     "name": "stderr",
     "output_type": "stream",
     "text": [
      " 35%|███▍      | 140/405 [01:26<02:42,  1.63it/s]\n"
     ]
    },
    {
     "ename": "KeyboardInterrupt",
     "evalue": "",
     "output_type": "error",
     "traceback": [
      "\u001b[0;31m---------------------------------------------------------------------------\u001b[0m",
      "\u001b[0;31mKeyboardInterrupt\u001b[0m                         Traceback (most recent call last)",
      "Cell \u001b[0;32mIn[3], line 5\u001b[0m\n\u001b[1;32m      3\u001b[0m m2 \u001b[38;5;241m=\u001b[39m compute_all_metrics(sample_pcs\u001b[38;5;241m=\u001b[39msamples,ref_pcs\u001b[38;5;241m=\u001b[39mvalidation,batch_size\u001b[38;5;241m=\u001b[39m\u001b[38;5;241m128\u001b[39m)\n\u001b[1;32m      4\u001b[0m \u001b[38;5;28mprint\u001b[39m(m2)\n\u001b[0;32m----> 5\u001b[0m m3 \u001b[38;5;241m=\u001b[39m \u001b[43mcompute_all_metrics\u001b[49m\u001b[43m(\u001b[49m\u001b[43msample_pcs\u001b[49m\u001b[38;5;241;43m=\u001b[39;49m\u001b[43msamples\u001b[49m\u001b[43m,\u001b[49m\u001b[43mref_pcs\u001b[49m\u001b[38;5;241;43m=\u001b[39;49m\u001b[43mvalidation_lion\u001b[49m\u001b[43m,\u001b[49m\u001b[43mbatch_size\u001b[49m\u001b[38;5;241;43m=\u001b[39;49m\u001b[38;5;241;43m128\u001b[39;49m\u001b[43m)\u001b[49m\n\u001b[1;32m      6\u001b[0m \u001b[38;5;28mprint\u001b[39m(m3)\n",
      "File \u001b[0;32m/mnt/data/projects/shape-synthesis/shapesynthesis/metrics/evaluation.py:161\u001b[0m, in \u001b[0;36mcompute_all_metrics\u001b[0;34m(sample_pcs, ref_pcs, batch_size, accelerated_cd)\u001b[0m\n\u001b[1;32m    158\u001b[0m \u001b[38;5;28;01mdef\u001b[39;00m\u001b[38;5;250m \u001b[39m\u001b[38;5;21mcompute_all_metrics\u001b[39m(sample_pcs, ref_pcs, batch_size, accelerated_cd\u001b[38;5;241m=\u001b[39m\u001b[38;5;28;01mNone\u001b[39;00m):\n\u001b[1;32m    159\u001b[0m     results \u001b[38;5;241m=\u001b[39m {}\n\u001b[0;32m--> 161\u001b[0m     M_rs_cd, M_rs_emd \u001b[38;5;241m=\u001b[39m \u001b[43m_pairwise_EMD_CD_\u001b[49m\u001b[43m(\u001b[49m\u001b[43mref_pcs\u001b[49m\u001b[43m,\u001b[49m\u001b[43m \u001b[49m\u001b[43msample_pcs\u001b[49m\u001b[43m,\u001b[49m\u001b[43m \u001b[49m\u001b[43mbatch_size\u001b[49m\u001b[43m)\u001b[49m\n\u001b[1;32m    163\u001b[0m     res_cd \u001b[38;5;241m=\u001b[39m lgan_mmd_cov(M_rs_cd\u001b[38;5;241m.\u001b[39mt())\n\u001b[1;32m    164\u001b[0m     results\u001b[38;5;241m.\u001b[39mupdate({\u001b[38;5;124m\"\u001b[39m\u001b[38;5;132;01m%s\u001b[39;00m\u001b[38;5;124m-CD\u001b[39m\u001b[38;5;124m\"\u001b[39m \u001b[38;5;241m%\u001b[39m k: v \u001b[38;5;28;01mfor\u001b[39;00m k, v \u001b[38;5;129;01min\u001b[39;00m res_cd\u001b[38;5;241m.\u001b[39mitems()})\n",
      "File \u001b[0;32m/mnt/data/projects/shape-synthesis/shapesynthesis/metrics/evaluation.py:91\u001b[0m, in \u001b[0;36m_pairwise_EMD_CD_\u001b[0;34m(sample_pcs, ref_pcs, batch_size, accelerated_cd)\u001b[0m\n\u001b[1;32m     88\u001b[0m     cd_lst\u001b[38;5;241m.\u001b[39mappend((dl\u001b[38;5;241m.\u001b[39mmean(dim\u001b[38;5;241m=\u001b[39m\u001b[38;5;241m1\u001b[39m) \u001b[38;5;241m+\u001b[39m dr\u001b[38;5;241m.\u001b[39mmean(dim\u001b[38;5;241m=\u001b[39m\u001b[38;5;241m1\u001b[39m))\u001b[38;5;241m.\u001b[39mview(\u001b[38;5;241m1\u001b[39m, \u001b[38;5;241m-\u001b[39m\u001b[38;5;241m1\u001b[39m)\u001b[38;5;241m.\u001b[39mdetach()\u001b[38;5;241m.\u001b[39mcpu())\n\u001b[1;32m     90\u001b[0m     emd_batch \u001b[38;5;241m=\u001b[39m EMD(sample_batch_exp\u001b[38;5;241m.\u001b[39mcuda(), ref_batch\u001b[38;5;241m.\u001b[39mcuda(), transpose\u001b[38;5;241m=\u001b[39m\u001b[38;5;28;01mFalse\u001b[39;00m)\n\u001b[0;32m---> 91\u001b[0m     emd_lst\u001b[38;5;241m.\u001b[39mappend(\u001b[43memd_batch\u001b[49m\u001b[38;5;241;43m.\u001b[39;49m\u001b[43mview\u001b[49m\u001b[43m(\u001b[49m\u001b[38;5;241;43m1\u001b[39;49m\u001b[43m,\u001b[49m\u001b[43m \u001b[49m\u001b[38;5;241;43m-\u001b[39;49m\u001b[38;5;241;43m1\u001b[39;49m\u001b[43m)\u001b[49m\u001b[38;5;241;43m.\u001b[39;49m\u001b[43mdetach\u001b[49m\u001b[43m(\u001b[49m\u001b[43m)\u001b[49m\u001b[38;5;241;43m.\u001b[39;49m\u001b[43mcpu\u001b[49m\u001b[43m(\u001b[49m\u001b[43m)\u001b[49m)\n\u001b[1;32m     93\u001b[0m cd_lst \u001b[38;5;241m=\u001b[39m torch\u001b[38;5;241m.\u001b[39mcat(cd_lst, dim\u001b[38;5;241m=\u001b[39m\u001b[38;5;241m1\u001b[39m)\n\u001b[1;32m     94\u001b[0m emd_lst \u001b[38;5;241m=\u001b[39m torch\u001b[38;5;241m.\u001b[39mcat(emd_lst, dim\u001b[38;5;241m=\u001b[39m\u001b[38;5;241m1\u001b[39m)\n",
      "\u001b[0;31mKeyboardInterrupt\u001b[0m: "
     ]
    }
   ],
   "source": [
    "m1 = compute_all_metrics(sample_pcs=validation_lion,ref_pcs=validation,batch_size=128)\n",
    "print(m1)\n",
    "m2 = compute_all_metrics(sample_pcs=samples,ref_pcs=validation,batch_size=128)\n",
    "print(m2)\n",
    "m3 = compute_all_metrics(sample_pcs=samples,ref_pcs=validation_lion,batch_size=128)\n",
    "print(m3)\n"
   ]
  },
  {
   "cell_type": "code",
   "execution_count": 7,
   "id": "776daf2e",
   "metadata": {},
   "outputs": [
    {
     "name": "stderr",
     "output_type": "stream",
     "text": [
      "100%|██████████| 405/405 [04:07<00:00,  1.64it/s]\n",
      "100%|██████████| 405/405 [03:32<00:00,  1.91it/s]\n",
      "100%|██████████| 480/480 [04:53<00:00,  1.64it/s]"
     ]
    },
    {
     "name": "stdout",
     "output_type": "stream",
     "text": [
      "{'lgan_mmd-CD': tensor(0.0150), 'lgan_cov-CD': tensor(0.5185), 'lgan_mmd_smp-CD': tensor(0.0601), 'lgan_mmd-EMD': tensor(0.2458), 'lgan_cov-EMD': tensor(0.5506), 'lgan_mmd_smp-EMD': tensor(0.5283), '1-NN-CD-acc_t': tensor(0.7580), '1-NN-CD-acc_f': tensor(0.6042), '1-NN-CD-acc': tensor(0.6746), '1-NN-EMD-acc_t': tensor(0.6370), '1-NN-EMD-acc_f': tensor(0.5833), '1-NN-EMD-acc': tensor(0.6079)}\n"
     ]
    },
    {
     "name": "stderr",
     "output_type": "stream",
     "text": [
      "\n"
     ]
    }
   ],
   "source": [
    "m3 = compute_all_metrics(sample_pcs=samples,ref_pcs=validation,batch_size=128)\n",
    "print(m3)"
   ]
  },
  {
   "cell_type": "code",
   "execution_count": 2,
   "id": "b941779c",
   "metadata": {},
   "outputs": [],
   "source": [
    "# from shapesynthesis.plotting import plot_recon_3d\n",
    "\n",
    "\n",
    "# plot_recon_3d(samples, validation, num_pc=64,offset=128+128+64)"
   ]
  },
  {
   "cell_type": "code",
   "execution_count": 3,
   "id": "865d4a6d",
   "metadata": {},
   "outputs": [],
   "source": [
    "# plot_recon_3d(samples, validation_lion, num_pc=64,offset=200)"
   ]
  },
  {
   "cell_type": "code",
   "execution_count": null,
   "id": "377c379f",
   "metadata": {},
   "outputs": [
    {
     "name": "stdout",
     "output_type": "stream",
     "text": [
      "Loaded compiled 3D CUDA chamfer distance\n"
     ]
    },
    {
     "name": "stderr",
     "output_type": "stream",
     "text": [
      "  1%|          | 3/405 [00:17<39:32,  5.90s/it]\n"
     ]
    },
    {
     "ename": "KeyboardInterrupt",
     "evalue": "",
     "output_type": "error",
     "traceback": [
      "\u001b[0;31m---------------------------------------------------------------------------\u001b[0m",
      "\u001b[0;31mKeyboardInterrupt\u001b[0m                         Traceback (most recent call last)",
      "Cell \u001b[0;32mIn[4], line 3\u001b[0m\n\u001b[1;32m      1\u001b[0m \u001b[38;5;28;01mfrom\u001b[39;00m\u001b[38;5;250m \u001b[39m\u001b[38;5;21;01mshapesynthesis\u001b[39;00m\u001b[38;5;21;01m.\u001b[39;00m\u001b[38;5;21;01mmetrics\u001b[39;00m\u001b[38;5;21;01m.\u001b[39;00m\u001b[38;5;21;01mevaluation\u001b[39;00m\u001b[38;5;250m \u001b[39m\u001b[38;5;28;01mimport\u001b[39;00m compute_all_metrics\n\u001b[0;32m----> 3\u001b[0m \u001b[43mcompute_all_metrics\u001b[49m\u001b[43m(\u001b[49m\u001b[43msample_pcs\u001b[49m\u001b[38;5;241;43m=\u001b[39;49m\u001b[43mvalidation_lion\u001b[49m\u001b[43m,\u001b[49m\u001b[43mref_pcs\u001b[49m\u001b[38;5;241;43m=\u001b[39;49m\u001b[43mvalidation\u001b[49m\u001b[43m,\u001b[49m\u001b[43mbatch_size\u001b[49m\u001b[38;5;241;43m=\u001b[39;49m\u001b[38;5;241;43m32\u001b[39;49m\u001b[43m)\u001b[49m\n",
      "File \u001b[0;32m/mnt/data/projects/shape-synthesis/shapesynthesis/metrics/evaluation.py:161\u001b[0m, in \u001b[0;36mcompute_all_metrics\u001b[0;34m(sample_pcs, ref_pcs, batch_size, accelerated_cd)\u001b[0m\n\u001b[1;32m    158\u001b[0m \u001b[38;5;28;01mdef\u001b[39;00m\u001b[38;5;250m \u001b[39m\u001b[38;5;21mcompute_all_metrics\u001b[39m(sample_pcs, ref_pcs, batch_size, accelerated_cd\u001b[38;5;241m=\u001b[39m\u001b[38;5;28;01mNone\u001b[39;00m):\n\u001b[1;32m    159\u001b[0m     results \u001b[38;5;241m=\u001b[39m {}\n\u001b[0;32m--> 161\u001b[0m     M_rs_cd, M_rs_emd \u001b[38;5;241m=\u001b[39m \u001b[43m_pairwise_EMD_CD_\u001b[49m\u001b[43m(\u001b[49m\u001b[43mref_pcs\u001b[49m\u001b[43m,\u001b[49m\u001b[43m \u001b[49m\u001b[43msample_pcs\u001b[49m\u001b[43m,\u001b[49m\u001b[43m \u001b[49m\u001b[43mbatch_size\u001b[49m\u001b[43m)\u001b[49m\n\u001b[1;32m    163\u001b[0m     res_cd \u001b[38;5;241m=\u001b[39m lgan_mmd_cov(M_rs_cd\u001b[38;5;241m.\u001b[39mt())\n\u001b[1;32m    164\u001b[0m     results\u001b[38;5;241m.\u001b[39mupdate({\u001b[38;5;124m\"\u001b[39m\u001b[38;5;132;01m%s\u001b[39;00m\u001b[38;5;124m-CD\u001b[39m\u001b[38;5;124m\"\u001b[39m \u001b[38;5;241m%\u001b[39m k: v \u001b[38;5;28;01mfor\u001b[39;00m k, v \u001b[38;5;129;01min\u001b[39;00m res_cd\u001b[38;5;241m.\u001b[39mitems()})\n",
      "File \u001b[0;32m/mnt/data/projects/shape-synthesis/shapesynthesis/metrics/evaluation.py:91\u001b[0m, in \u001b[0;36m_pairwise_EMD_CD_\u001b[0;34m(sample_pcs, ref_pcs, batch_size, accelerated_cd)\u001b[0m\n\u001b[1;32m     88\u001b[0m     cd_lst\u001b[38;5;241m.\u001b[39mappend((dl\u001b[38;5;241m.\u001b[39mmean(dim\u001b[38;5;241m=\u001b[39m\u001b[38;5;241m1\u001b[39m) \u001b[38;5;241m+\u001b[39m dr\u001b[38;5;241m.\u001b[39mmean(dim\u001b[38;5;241m=\u001b[39m\u001b[38;5;241m1\u001b[39m))\u001b[38;5;241m.\u001b[39mview(\u001b[38;5;241m1\u001b[39m, \u001b[38;5;241m-\u001b[39m\u001b[38;5;241m1\u001b[39m)\u001b[38;5;241m.\u001b[39mdetach()\u001b[38;5;241m.\u001b[39mcpu())\n\u001b[1;32m     90\u001b[0m     emd_batch \u001b[38;5;241m=\u001b[39m EMD(sample_batch_exp\u001b[38;5;241m.\u001b[39mcuda(), ref_batch\u001b[38;5;241m.\u001b[39mcuda(), transpose\u001b[38;5;241m=\u001b[39m\u001b[38;5;28;01mFalse\u001b[39;00m)\n\u001b[0;32m---> 91\u001b[0m     emd_lst\u001b[38;5;241m.\u001b[39mappend(\u001b[43memd_batch\u001b[49m\u001b[38;5;241;43m.\u001b[39;49m\u001b[43mview\u001b[49m\u001b[43m(\u001b[49m\u001b[38;5;241;43m1\u001b[39;49m\u001b[43m,\u001b[49m\u001b[43m \u001b[49m\u001b[38;5;241;43m-\u001b[39;49m\u001b[38;5;241;43m1\u001b[39;49m\u001b[43m)\u001b[49m\u001b[38;5;241;43m.\u001b[39;49m\u001b[43mdetach\u001b[49m\u001b[43m(\u001b[49m\u001b[43m)\u001b[49m\u001b[38;5;241;43m.\u001b[39;49m\u001b[43mcpu\u001b[49m\u001b[43m(\u001b[49m\u001b[43m)\u001b[49m)\n\u001b[1;32m     93\u001b[0m cd_lst \u001b[38;5;241m=\u001b[39m torch\u001b[38;5;241m.\u001b[39mcat(cd_lst, dim\u001b[38;5;241m=\u001b[39m\u001b[38;5;241m1\u001b[39m)\n\u001b[1;32m     94\u001b[0m emd_lst \u001b[38;5;241m=\u001b[39m torch\u001b[38;5;241m.\u001b[39mcat(emd_lst, dim\u001b[38;5;241m=\u001b[39m\u001b[38;5;241m1\u001b[39m)\n",
      "\u001b[0;31mKeyboardInterrupt\u001b[0m: "
     ]
    }
   ],
   "source": []
  },
  {
   "cell_type": "code",
   "execution_count": null,
   "id": "f644b784",
   "metadata": {},
   "outputs": [],
   "source": []
  }
 ],
 "metadata": {
  "kernelspec": {
   "display_name": ".venv",
   "language": "python",
   "name": "python3"
  },
  "language_info": {
   "codemirror_mode": {
    "name": "ipython",
    "version": 3
   },
   "file_extension": ".py",
   "mimetype": "text/x-python",
   "name": "python",
   "nbconvert_exporter": "python",
   "pygments_lexer": "ipython3",
   "version": "3.10.12"
  }
 },
 "nbformat": 4,
 "nbformat_minor": 5
}
