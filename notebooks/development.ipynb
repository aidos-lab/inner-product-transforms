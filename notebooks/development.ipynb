{
 "cells": [
  {
   "cell_type": "code",
   "execution_count": 3,
   "metadata": {},
   "outputs": [
    {
     "name": "stdout",
     "output_type": "stream",
     "text": [
      "['airplane']\n",
      "Total number of data:2832\n",
      "Min number of points: (train)2048 (test)2048\n",
      "['airplane']\n",
      "Total number of data:405\n",
      "Min number of points: (train)2048 (test)2048\n",
      "['airplane']\n",
      "Total number of data:808\n",
      "Min number of points: (train)2048 (test)2048\n"
     ]
    }
   ],
   "source": [
    "from shapesynthesis.datasets.shapenetcore import ShapeNet15kPointClouds\n",
    "\n",
    "cates = [\"airplane\"]\n",
    "root_dir = \"../data/shapenet/raw/ShapeNetCore.v2.PC15k\"\n",
    "tr_dataset = ShapeNet15kPointClouds(\n",
    "        categories=cates,\n",
    "        split=\"train\",\n",
    "        tr_sample_size=2048,\n",
    "        te_sample_size=2048,\n",
    "        scale=1,\n",
    "        root_dir=root_dir,\n",
    "        normalize_per_shape=False,\n",
    "        normalize_std_per_axis=False,\n",
    "        random_subsample=True,\n",
    "    )\n",
    "val_dataset = ShapeNet15kPointClouds(\n",
    "    categories=cates,\n",
    "    split=\"val\",\n",
    "    tr_sample_size=2048,\n",
    "    te_sample_size=2048,\n",
    "    scale=1,\n",
    "    root_dir=root_dir,\n",
    "    normalize_per_shape=False,\n",
    "    normalize_std_per_axis=False,\n",
    "    all_points_mean=tr_dataset.all_points_mean,\n",
    "    all_points_std=tr_dataset.all_points_std,\n",
    ")\n",
    "\n",
    "te_dataset = ShapeNet15kPointClouds(\n",
    "    categories=cates,\n",
    "    split=\"test\",\n",
    "    tr_sample_size=2048,\n",
    "    te_sample_size=2048,\n",
    "    scale=1,\n",
    "    root_dir=root_dir,\n",
    "    normalize_per_shape=False,\n",
    "    normalize_std_per_axis=False,\n",
    "    all_points_mean=tr_dataset.all_points_mean,\n",
    "    all_points_std=tr_dataset.all_points_std,\n",
    ")\n"
   ]
  },
  {
   "cell_type": "code",
   "execution_count": 4,
   "metadata": {},
   "outputs": [
    {
     "name": "stdout",
     "output_type": "stream",
     "text": [
      "torch.Size([2832, 2048, 3])\n"
     ]
    }
   ],
   "source": [
    "\n",
    "import torch \n",
    "te_scales = []\n",
    "tr_scales = []\n",
    "val_scales = []\n",
    "\n",
    "val_pts = []\n",
    "train_pts = []\n",
    "\n",
    "for data in te_dataset: \n",
    "    te_scales.append(data[\"test_points\"].norm(dim=-1).max())\n",
    "    \n",
    "\n",
    "\n",
    "for data in tr_dataset: \n",
    "    tr_scales.append(data[\"test_points\"].norm(dim=-1).max())\n",
    "    train_pts.append(data[\"test_points\"].unsqueeze(0))\n",
    "\n",
    "\n",
    "for data in val_dataset: \n",
    "    val_scales.append(data[\"test_points\"].norm(dim=-1).max())\n",
    "    val_pts.append(data[\"test_points\"].unsqueeze(0))\n",
    "\n",
    "tr_scales = torch.vstack(tr_scales).numpy()\n",
    "te_scales = torch.vstack(te_scales).numpy()\n",
    "val_scales = torch.vstack(val_scales).numpy()\n",
    "\n",
    "train_pts = torch.cat(train_pts)\n",
    "val_pts = torch.cat(val_pts)\n",
    "\n",
    "print(train_pts.shape)\n",
    "\n",
    "\n",
    "\n"
   ]
  },
  {
   "cell_type": "code",
   "execution_count": null,
   "metadata": {},
   "outputs": [
    {
     "data": {
      "text/plain": [
       "<Axes: ylabel='Count'>"
      ]
     },
     "execution_count": 5,
     "metadata": {},
     "output_type": "execute_result"
    },
    {
     "data": {
      "image/png": "[encoded data removed]",
      "text/plain": [
       "<Figure size 640x480 with 1 Axes>"
      ]
     },
     "metadata": {},
     "output_type": "display_data"
    }
   ],
   "source": [
    "\n",
    "import matplotlib.pyplot as plt\n",
    "import seaborn as sns \n",
    "\n",
    "sns.histplot(te_scales,color='blue',label=\"Test point scales\")\n",
    "sns.histplot(tr_scales,color='red',label=\"Train point scales\")\n",
    "sns.histplot(val_scales,color='green',label=\"Validation point scales\")"
   ]
  },
  {
   "cell_type": "code",
   "execution_count": 6,
   "metadata": {},
   "outputs": [
    {
     "data": {
      "text/plain": [
       "<Axes: ylabel='Count'>"
      ]
     },
     "execution_count": 6,
     "metadata": {},
     "output_type": "execute_result"
    },
    {
     "data": {
      "image/png": "[encoded data removed]",
      "text/plain": [
       "<Figure size 640x480 with 1 Axes>"
      ]
     },
     "metadata": {},
     "output_type": "display_data"
    }
   ],
   "source": [
    "\n",
    "train_means = train_pts.mean(dim=1,keepdim=True)\n",
    "val_means = val_pts.mean(dim=1,keepdim=True)\n",
    "\n",
    "train_intrinsic_scales = (train_pts-train_means).norm(dim=-1).max(dim=-1)[0]\n",
    "val_intrinsic_scales = (val_pts-val_means).norm(dim=-1).max(dim=-1)[0]\n",
    "\n",
    "sns.histplot(x=train_intrinsic_scales.numpy(),color='blue',label=\"Train\")\n",
    "sns.histplot(x=val_intrinsic_scales.numpy(),color='red',label=\"Validation\")\n",
    "\n"
   ]
  },
  {
   "cell_type": "code",
   "execution_count": null,
   "metadata": {},
   "outputs": [
    {
     "ename": "NameError",
     "evalue": "name 'pvd_airplane' is not defined",
     "output_type": "error",
     "traceback": [
      "\u001b[0;31m---------------------------------------------------------------------------\u001b[0m",
      "\u001b[0;31mNameError\u001b[0m                                 Traceback (most recent call last)",
      "Cell \u001b[0;32mIn[2], line 18\u001b[0m\n\u001b[1;32m     14\u001b[0m \u001b[38;5;28;01mfor\u001b[39;00m col \u001b[38;5;129;01min\u001b[39;00m \u001b[38;5;28mrange\u001b[39m(\u001b[38;5;241m8\u001b[39m):\n\u001b[1;32m     15\u001b[0m     \u001b[38;5;66;03m# First PVD\u001b[39;00m\n\u001b[1;32m     16\u001b[0m     pl\u001b[38;5;241m.\u001b[39msubplot(\u001b[38;5;241m0\u001b[39m, col)\n\u001b[1;32m     17\u001b[0m     actor \u001b[38;5;241m=\u001b[39m pl\u001b[38;5;241m.\u001b[39madd_points(\n\u001b[0;32m---> 18\u001b[0m         \u001b[43mpvd_airplane\u001b[49m[col]\u001b[38;5;241m.\u001b[39mcpu()\u001b[38;5;241m.\u001b[39mnumpy()\u001b[38;5;241m.\u001b[39mreshape(\u001b[38;5;241m-\u001b[39m\u001b[38;5;241m1\u001b[39m, \u001b[38;5;241m3\u001b[39m),\n\u001b[1;32m     19\u001b[0m         style\u001b[38;5;241m=\u001b[39m\u001b[38;5;124m\"\u001b[39m\u001b[38;5;124mpoints\u001b[39m\u001b[38;5;124m\"\u001b[39m,\n\u001b[1;32m     20\u001b[0m         emissive\u001b[38;5;241m=\u001b[39m\u001b[38;5;28;01mFalse\u001b[39;00m,\n\u001b[1;32m     21\u001b[0m         show_scalar_bar\u001b[38;5;241m=\u001b[39m\u001b[38;5;28;01mFalse\u001b[39;00m,\n\u001b[1;32m     22\u001b[0m         render_points_as_spheres\u001b[38;5;241m=\u001b[39m\u001b[38;5;28;01mTrue\u001b[39;00m,\n\u001b[1;32m     23\u001b[0m         color\u001b[38;5;241m=\u001b[39m\u001b[38;5;124m\"\u001b[39m\u001b[38;5;124mlightgray\u001b[39m\u001b[38;5;124m\"\u001b[39m,\n\u001b[1;32m     24\u001b[0m         point_size\u001b[38;5;241m=\u001b[39m\u001b[38;5;241m2\u001b[39m,\n\u001b[1;32m     25\u001b[0m         ambient\u001b[38;5;241m=\u001b[39m\u001b[38;5;241m0.2\u001b[39m,\n\u001b[1;32m     26\u001b[0m         diffuse\u001b[38;5;241m=\u001b[39m\u001b[38;5;241m0.8\u001b[39m,\n\u001b[1;32m     27\u001b[0m         specular\u001b[38;5;241m=\u001b[39m\u001b[38;5;241m0.8\u001b[39m,\n\u001b[1;32m     28\u001b[0m         specular_power\u001b[38;5;241m=\u001b[39m\u001b[38;5;241m40\u001b[39m,\n\u001b[1;32m     29\u001b[0m         smooth_shading\u001b[38;5;241m=\u001b[39m\u001b[38;5;28;01mTrue\u001b[39;00m,\n\u001b[1;32m     30\u001b[0m     )\n\u001b[1;32m     31\u001b[0m     \u001b[38;5;66;03m# Ours\u001b[39;00m\n\u001b[1;32m     32\u001b[0m     pl\u001b[38;5;241m.\u001b[39msubplot(\u001b[38;5;241m1\u001b[39m, col)\n",
      "\u001b[0;31mNameError\u001b[0m: name 'pvd_airplane' is not defined"
     ]
    }
   ],
   "source": []
  },
  {
   "cell_type": "markdown",
   "metadata": {},
   "source": [
    "\n",
    "```\n",
    "{'lgan_mmd-CD': tensor(0.0156),\n",
    " 'lgan_cov-CD': tensor(0.4642),\n",
    " 'lgan_mmd_smp-CD': tensor(0.0667),\n",
    " 'lgan_mmd-EMD': tensor(0.2479),\n",
    " 'lgan_cov-EMD': tensor(0.5210),\n",
    " 'lgan_mmd_smp-EMD': tensor(0.5638),\n",
    " '1-NN-CD-acc_t': tensor(0.7852),\n",
    " '1-NN-CD-acc_f': tensor(0.5704),\n",
    " '1-NN-CD-acc': tensor(0.6778),\n",
    " '1-NN-EMD-acc_t': tensor(0.6420),\n",
    " '1-NN-EMD-acc_f': tensor(0.5654),\n",
    " '1-NN-EMD-acc': tensor(0.6037)}\n",
    "```"
   ]
  }
 ],
 "metadata": {
  "kernelspec": {
   "display_name": ".venv",
   "language": "python",
   "name": "python3"
  },
  "language_info": {
   "codemirror_mode": {
    "name": "ipython",
    "version": 3
   },
   "file_extension": ".py",
   "mimetype": "text/x-python",
   "name": "python",
   "nbconvert_exporter": "python",
   "pygments_lexer": "ipython3",
   "version": "3.10.12"
  }
 },
 "nbformat": 4,
 "nbformat_minor": 2
}
