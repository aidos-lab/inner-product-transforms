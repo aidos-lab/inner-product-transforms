{
 "cells": [
  {
   "cell_type": "code",
   "execution_count": 2,
   "metadata": {},
   "outputs": [
    {
     "data": {
      "application/vnd.jupyter.widget-view+json": {
       "model_id": "d29ef38e65f64c7e8b15521bea778eee",
       "version_major": 2,
       "version_minor": 0
      },
      "text/plain": [
       "Widget(value='<iframe src=\"http://localhost:61065/index.html?ui=P_0x18f356339d0_0&reconnect=auto\" class=\"pyvis…"
      ]
     },
     "metadata": {},
     "output_type": "display_data"
    }
   ],
   "source": [
    "# from datasets.shapenetcore import DataModule, DataModuleConfig\n",
    "import numpy as np\n",
    "\n",
    "import pyvista as pv\n",
    "\n",
    "\n",
    "# config = DataModuleConfig(debug=True,force_reload=False,cates=[\"car\",\"chair\"])\n",
    "# dm = DataModule(config)\n",
    "\n",
    "# Seed rng for reproducibility\n",
    "rng = np.random.default_rng(seed=0)\n",
    "points = rng.random((100, 3))\n",
    "\n",
    "\n",
    "pl = pv.Plotter(\n",
    "    window_size=[200 , 200],\n",
    "    border=False,\n",
    "    polygon_smoothing=True,\n",
    ")\n",
    "\n",
    "actor = pl.add_points(\n",
    "    points,\n",
    "    style=\"points\",\n",
    "    emissive=False,\n",
    "    show_scalar_bar=False,\n",
    "    render_points_as_spheres=True,\n",
    "    color=\"lightgray\",\n",
    "    point_size=2,\n",
    "    ambient=0.2,\n",
    "    diffuse=0.8,\n",
    "    specular=0.8,\n",
    "    specular_power=40,\n",
    "    smooth_shading=True,\n",
    ")\n",
    "\n",
    "pl.background_color = \"w\"\n",
    "pl.link_views()\n",
    "pl.camera_position = \"xy\"\n",
    "pos = pl.camera.position\n",
    "pl.camera.position = (pos[0], pos[1] + 3, pos[2])\n",
    "pl.camera.position = (10, 0, 0)\n",
    "pl.camera.azimuth = 45\n",
    "pl.camera.elevation = 30\n",
    "light = pv.Light(\n",
    "    position=(0, 0, 0), positional=True, cone_angle=50, exponent=20, intensity=0.2\n",
    ")\n",
    "pl.add_light(light)\n",
    "pl.camera.zoom(0.7)\n",
    "pl.show()\n"
   ]
  },
  {
   "cell_type": "code",
   "execution_count": null,
   "metadata": {},
   "outputs": [],
   "source": []
  }
 ],
 "metadata": {
  "kernelspec": {
   "display_name": "Python 3",
   "language": "python",
   "name": "python3"
  },
  "language_info": {
   "codemirror_mode": {
    "name": "ipython",
    "version": 3
   },
   "file_extension": ".py",
   "mimetype": "text/x-python",
   "name": "python",
   "nbconvert_exporter": "python",
   "pygments_lexer": "ipython3",
   "version": "3.10.11"
  }
 },
 "nbformat": 4,
 "nbformat_minor": 2
}
