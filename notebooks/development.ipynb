{
 "cells": [
  {
   "cell_type": "code",
   "execution_count": 1,
   "metadata": {},
   "outputs": [],
   "source": [
    "import shapesynthesis"
   ]
  },
  {
   "cell_type": "code",
   "execution_count": null,
   "metadata": {},
   "outputs": [],
   "source": []
  },
  {
   "cell_type": "code",
   "execution_count": 4,
   "metadata": {},
   "outputs": [
    {
     "name": "stderr",
     "output_type": "stream",
     "text": [
      "100%|██████████| 10/10 [00:00<00:00, 11.07it/s]\n",
      "100%|██████████| 10/10 [00:00<00:00, 586.95it/s]\n",
      "100%|██████████| 10/10 [00:00<00:00, 959.16it/s]\n"
     ]
    },
    {
     "data": {
      "text/plain": [
       "{'lgan_mmd-CD': tensor(0.0350),\n",
       " 'lgan_cov-CD': tensor(0.4000),\n",
       " 'lgan_mmd_smp-CD': tensor(0.0345),\n",
       " 'lgan_mmd-EMD': tensor(0.0621),\n",
       " 'lgan_cov-EMD': tensor(0.5000),\n",
       " 'lgan_mmd_smp-EMD': tensor(0.0627),\n",
       " '1-NN-CD-acc_t': tensor(0.8000),\n",
       " '1-NN-CD-acc_f': tensor(0.8000),\n",
       " '1-NN-CD-acc': tensor(0.8000),\n",
       " '1-NN-EMD-acc_t': tensor(0.5000),\n",
       " '1-NN-EMD-acc_f': tensor(0.6000),\n",
       " '1-NN-EMD-acc': tensor(0.5500)}"
      ]
     },
     "execution_count": 4,
     "metadata": {},
     "output_type": "execute_result"
    }
   ],
   "source": [
    "from shapesynthesis.metrics.evaluation import compute_all_metrics\n",
    "\n",
    "import torch \n",
    "\n",
    "\n",
    "a = torch.rand(size=(10,100,3))\n",
    "b = torch.rand(size=(10,100,3))\n",
    "\n",
    "compute_all_metrics(a,b,batch_size=100,accelerated_cd=True)\n"
   ]
  },
  {
   "cell_type": "code",
   "execution_count": null,
   "metadata": {},
   "outputs": [
    {
     "data": {
      "application/vnd.jupyter.widget-view+json": {
       "model_id": "d29ef38e65f64c7e8b15521bea778eee",
       "version_major": 2,
       "version_minor": 0
      },
      "text/plain": [
       "Widget(value='<iframe src=\"http://localhost:61065/index.html?ui=P_0x18f356339d0_0&reconnect=auto\" class=\"pyvis…"
      ]
     },
     "metadata": {},
     "output_type": "display_data"
    }
   ],
   "source": [
    "# from datasets.shapenetcore import DataModule, DataModuleConfig\n",
    "import numpy as np\n",
    "\n",
    "import pyvista as pv\n",
    "\n",
    "\n",
    "# config = DataModuleConfig(debug=True,force_reload=False,cates=[\"car\",\"chair\"])\n",
    "# dm = DataModule(config)\n",
    "\n",
    "# Seed rng for reproducibility\n",
    "rng = np.random.default_rng(seed=0)\n",
    "points = rng.random((100, 3))\n",
    "\n",
    "\n",
    "pl = pv.Plotter(\n",
    "    window_size=[200 , 200],\n",
    "    border=False,\n",
    "    polygon_smoothing=True,\n",
    ")\n",
    "\n",
    "actor = pl.add_points(\n",
    "    points,\n",
    "    style=\"points\",\n",
    "    emissive=False,\n",
    "    show_scalar_bar=False,\n",
    "    render_points_as_spheres=True,\n",
    "    color=\"lightgray\",\n",
    "    point_size=2,\n",
    "    ambient=0.2,\n",
    "    diffuse=0.8,\n",
    "    specular=0.8,\n",
    "    specular_power=40,\n",
    "    smooth_shading=True,\n",
    ")\n",
    "\n",
    "pl.background_color = \"w\"\n",
    "pl.link_views()\n",
    "pl.camera_position = \"xy\"\n",
    "pos = pl.camera.position\n",
    "pl.camera.position = (pos[0], pos[1] + 3, pos[2])\n",
    "pl.camera.position = (10, 0, 0)\n",
    "pl.camera.azimuth = 45\n",
    "pl.camera.elevation = 30\n",
    "light = pv.Light(\n",
    "    position=(0, 0, 0), positional=True, cone_angle=50, exponent=20, intensity=0.2\n",
    ")\n",
    "pl.add_light(light)\n",
    "pl.camera.zoom(0.7)\n",
    "pl.show()\n"
   ]
  },
  {
   "cell_type": "code",
   "execution_count": null,
   "metadata": {},
   "outputs": [],
   "source": []
  }
 ],
 "metadata": {
  "kernelspec": {
   "display_name": ".venv",
   "language": "python",
   "name": "python3"
  },
  "language_info": {
   "codemirror_mode": {
    "name": "ipython",
    "version": 3
   },
   "file_extension": ".py",
   "mimetype": "text/x-python",
   "name": "python",
   "nbconvert_exporter": "python",
   "pygments_lexer": "ipython3",
   "version": "3.10.12"
  }
 },
 "nbformat": 4,
 "nbformat_minor": 2
}
