{
 "cells": [
  {
   "cell_type": "code",
   "execution_count": 1,
   "metadata": {},
   "outputs": [
    {
     "name": "stdout",
     "output_type": "stream",
     "text": [
      "['airplane']\n",
      "Total number of data:2832\n",
      "Min number of points: (train)2048 (test)2048\n",
      "['airplane']\n",
      "Total number of data:405\n",
      "Min number of points: (train)2048 (test)2048\n",
      "['airplane']\n",
      "Total number of data:808\n",
      "Min number of points: (train)2048 (test)2048\n"
     ]
    }
   ],
   "source": [
    "from shapesynthesis.datasets.shapenetcore import ShapeNet15kPointClouds\n",
    "\n",
    "cates = [\"airplane\"]\n",
    "root_dir = \"../data/shapenet/raw/ShapeNetCore.v2.PC15k\"\n",
    "tr_dataset = ShapeNet15kPointClouds(\n",
    "        categories=cates,\n",
    "        split=\"train\",\n",
    "        tr_sample_size=2048,\n",
    "        te_sample_size=2048,\n",
    "        scale=1,\n",
    "        root_dir=root_dir,\n",
    "        normalize_per_shape=False,\n",
    "        normalize_std_per_axis=False,\n",
    "        random_subsample=True,\n",
    "    )\n",
    "val_dataset = ShapeNet15kPointClouds(\n",
    "    categories=cates,\n",
    "    split=\"val\",\n",
    "    tr_sample_size=2048,\n",
    "    te_sample_size=2048,\n",
    "    scale=1,\n",
    "    root_dir=root_dir,\n",
    "    normalize_per_shape=False,\n",
    "    normalize_std_per_axis=False,\n",
    "    all_points_mean=tr_dataset.all_points_mean,\n",
    "    all_points_std=tr_dataset.all_points_std,\n",
    ")\n",
    "\n",
    "te_dataset = ShapeNet15kPointClouds(\n",
    "    categories=cates,\n",
    "    split=\"test\",\n",
    "    tr_sample_size=2048,\n",
    "    te_sample_size=2048,\n",
    "    scale=1,\n",
    "    root_dir=root_dir,\n",
    "    normalize_per_shape=False,\n",
    "    normalize_std_per_axis=False,\n",
    "    all_points_mean=tr_dataset.all_points_mean,\n",
    "    all_points_std=tr_dataset.all_points_std,\n",
    ")\n"
   ]
  },
  {
   "cell_type": "code",
   "execution_count": 2,
   "metadata": {},
   "outputs": [
    {
     "ename": "KeyboardInterrupt",
     "evalue": "",
     "output_type": "error",
     "traceback": [
      "\u001b[0;31m---------------------------------------------------------------------------\u001b[0m",
      "\u001b[0;31mKeyboardInterrupt\u001b[0m                         Traceback (most recent call last)",
      "Cell \u001b[0;32mIn[2], line 14\u001b[0m\n\u001b[1;32m      9\u001b[0m \u001b[38;5;28;01mfor\u001b[39;00m data \u001b[38;5;129;01min\u001b[39;00m te_dataset: \n\u001b[1;32m     10\u001b[0m     te_scales\u001b[38;5;241m.\u001b[39mappend(data[\u001b[38;5;124m\"\u001b[39m\u001b[38;5;124mtest_points\u001b[39m\u001b[38;5;124m\"\u001b[39m]\u001b[38;5;241m.\u001b[39mnorm(dim\u001b[38;5;241m=\u001b[39m\u001b[38;5;241m-\u001b[39m\u001b[38;5;241m1\u001b[39m)\u001b[38;5;241m.\u001b[39mmax())\n\u001b[0;32m---> 14\u001b[0m \u001b[38;5;28;01mfor\u001b[39;00m data \u001b[38;5;129;01min\u001b[39;00m tr_dataset: \n\u001b[1;32m     15\u001b[0m     tr_scales\u001b[38;5;241m.\u001b[39mappend(data[\u001b[38;5;124m\"\u001b[39m\u001b[38;5;124mtest_points\u001b[39m\u001b[38;5;124m\"\u001b[39m]\u001b[38;5;241m.\u001b[39mnorm(dim\u001b[38;5;241m=\u001b[39m\u001b[38;5;241m-\u001b[39m\u001b[38;5;241m1\u001b[39m)\u001b[38;5;241m.\u001b[39mmax())\n\u001b[1;32m     16\u001b[0m     train_pts\u001b[38;5;241m.\u001b[39mappend(data[\u001b[38;5;124m\"\u001b[39m\u001b[38;5;124mtest_points\u001b[39m\u001b[38;5;124m\"\u001b[39m]\u001b[38;5;241m.\u001b[39munsqueeze(\u001b[38;5;241m0\u001b[39m))\n",
      "File \u001b[0;32m/mnt/data/projects/shape-synthesis/shapesynthesis/datasets/shapenetcore.py:385\u001b[0m, in \u001b[0;36mUniform15KPC.__getitem__\u001b[0;34m(self, idx)\u001b[0m\n\u001b[1;32m    383\u001b[0m tr_out \u001b[38;5;241m=\u001b[39m \u001b[38;5;28mself\u001b[39m\u001b[38;5;241m.\u001b[39mtrain_points[idx]\n\u001b[1;32m    384\u001b[0m \u001b[38;5;28;01mif\u001b[39;00m \u001b[38;5;28mself\u001b[39m\u001b[38;5;241m.\u001b[39mrandom_subsample:\n\u001b[0;32m--> 385\u001b[0m     tr_idxs \u001b[38;5;241m=\u001b[39m \u001b[43mnp\u001b[49m\u001b[38;5;241;43m.\u001b[39;49m\u001b[43mrandom\u001b[49m\u001b[38;5;241;43m.\u001b[39;49m\u001b[43mchoice\u001b[49m\u001b[43m(\u001b[49m\u001b[43mtr_out\u001b[49m\u001b[38;5;241;43m.\u001b[39;49m\u001b[43mshape\u001b[49m\u001b[43m[\u001b[49m\u001b[38;5;241;43m0\u001b[39;49m\u001b[43m]\u001b[49m\u001b[43m,\u001b[49m\u001b[43m \u001b[49m\u001b[38;5;28;43mself\u001b[39;49m\u001b[38;5;241;43m.\u001b[39;49m\u001b[43mtr_sample_size\u001b[49m\u001b[43m)\u001b[49m\n\u001b[1;32m    386\u001b[0m \u001b[38;5;28;01melse\u001b[39;00m:\n\u001b[1;32m    387\u001b[0m     tr_idxs \u001b[38;5;241m=\u001b[39m np\u001b[38;5;241m.\u001b[39marange(\u001b[38;5;28mself\u001b[39m\u001b[38;5;241m.\u001b[39mtr_sample_size)\n",
      "File \u001b[0;32mnumpy/random/mtrand.pyx:982\u001b[0m, in \u001b[0;36mnumpy.random.mtrand.RandomState.choice\u001b[0;34m()\u001b[0m\n",
      "File \u001b[0;32m/mnt/data/projects/shape-synthesis/.venv/lib/python3.10/site-packages/numpy/core/fromnumeric.py:3100\u001b[0m, in \u001b[0;36mprod\u001b[0;34m(a, axis, dtype, out, keepdims, initial, where)\u001b[0m\n\u001b[1;32m   2979\u001b[0m \u001b[38;5;129m@array_function_dispatch\u001b[39m(_prod_dispatcher)\n\u001b[1;32m   2980\u001b[0m \u001b[38;5;28;01mdef\u001b[39;00m\u001b[38;5;250m \u001b[39m\u001b[38;5;21mprod\u001b[39m(a, axis\u001b[38;5;241m=\u001b[39m\u001b[38;5;28;01mNone\u001b[39;00m, dtype\u001b[38;5;241m=\u001b[39m\u001b[38;5;28;01mNone\u001b[39;00m, out\u001b[38;5;241m=\u001b[39m\u001b[38;5;28;01mNone\u001b[39;00m, keepdims\u001b[38;5;241m=\u001b[39mnp\u001b[38;5;241m.\u001b[39m_NoValue,\n\u001b[1;32m   2981\u001b[0m          initial\u001b[38;5;241m=\u001b[39mnp\u001b[38;5;241m.\u001b[39m_NoValue, where\u001b[38;5;241m=\u001b[39mnp\u001b[38;5;241m.\u001b[39m_NoValue):\n\u001b[1;32m   2982\u001b[0m \u001b[38;5;250m    \u001b[39m\u001b[38;5;124;03m\"\"\"\u001b[39;00m\n\u001b[1;32m   2983\u001b[0m \u001b[38;5;124;03m    Return the product of array elements over a given axis.\u001b[39;00m\n\u001b[1;32m   2984\u001b[0m \n\u001b[0;32m   (...)\u001b[0m\n\u001b[1;32m   3098\u001b[0m \u001b[38;5;124;03m    10\u001b[39;00m\n\u001b[1;32m   3099\u001b[0m \u001b[38;5;124;03m    \"\"\"\u001b[39;00m\n\u001b[0;32m-> 3100\u001b[0m     \u001b[38;5;28;01mreturn\u001b[39;00m \u001b[43m_wrapreduction\u001b[49m\u001b[43m(\u001b[49m\u001b[43ma\u001b[49m\u001b[43m,\u001b[49m\u001b[43m \u001b[49m\u001b[43mnp\u001b[49m\u001b[38;5;241;43m.\u001b[39;49m\u001b[43mmultiply\u001b[49m\u001b[43m,\u001b[49m\u001b[43m \u001b[49m\u001b[38;5;124;43m'\u001b[39;49m\u001b[38;5;124;43mprod\u001b[39;49m\u001b[38;5;124;43m'\u001b[39;49m\u001b[43m,\u001b[49m\u001b[43m \u001b[49m\u001b[43maxis\u001b[49m\u001b[43m,\u001b[49m\u001b[43m \u001b[49m\u001b[43mdtype\u001b[49m\u001b[43m,\u001b[49m\u001b[43m \u001b[49m\u001b[43mout\u001b[49m\u001b[43m,\u001b[49m\n\u001b[1;32m   3101\u001b[0m \u001b[43m                          \u001b[49m\u001b[43mkeepdims\u001b[49m\u001b[38;5;241;43m=\u001b[39;49m\u001b[43mkeepdims\u001b[49m\u001b[43m,\u001b[49m\u001b[43m \u001b[49m\u001b[43minitial\u001b[49m\u001b[38;5;241;43m=\u001b[39;49m\u001b[43minitial\u001b[49m\u001b[43m,\u001b[49m\u001b[43m \u001b[49m\u001b[43mwhere\u001b[49m\u001b[38;5;241;43m=\u001b[39;49m\u001b[43mwhere\u001b[49m\u001b[43m)\u001b[49m\n",
      "File \u001b[0;32m/mnt/data/projects/shape-synthesis/.venv/lib/python3.10/site-packages/numpy/core/fromnumeric.py:88\u001b[0m, in \u001b[0;36m_wrapreduction\u001b[0;34m(obj, ufunc, method, axis, dtype, out, **kwargs)\u001b[0m\n\u001b[1;32m     85\u001b[0m         \u001b[38;5;28;01melse\u001b[39;00m:\n\u001b[1;32m     86\u001b[0m             \u001b[38;5;28;01mreturn\u001b[39;00m reduction(axis\u001b[38;5;241m=\u001b[39maxis, out\u001b[38;5;241m=\u001b[39mout, \u001b[38;5;241m*\u001b[39m\u001b[38;5;241m*\u001b[39mpasskwargs)\n\u001b[0;32m---> 88\u001b[0m \u001b[38;5;28;01mreturn\u001b[39;00m \u001b[43mufunc\u001b[49m\u001b[38;5;241;43m.\u001b[39;49m\u001b[43mreduce\u001b[49m\u001b[43m(\u001b[49m\u001b[43mobj\u001b[49m\u001b[43m,\u001b[49m\u001b[43m \u001b[49m\u001b[43maxis\u001b[49m\u001b[43m,\u001b[49m\u001b[43m \u001b[49m\u001b[43mdtype\u001b[49m\u001b[43m,\u001b[49m\u001b[43m \u001b[49m\u001b[43mout\u001b[49m\u001b[43m,\u001b[49m\u001b[43m \u001b[49m\u001b[38;5;241;43m*\u001b[39;49m\u001b[38;5;241;43m*\u001b[39;49m\u001b[43mpasskwargs\u001b[49m\u001b[43m)\u001b[49m\n",
      "\u001b[0;31mKeyboardInterrupt\u001b[0m: "
     ]
    }
   ],
   "source": [
    "\n",
    "import torch \n",
    "te_scales = []\n",
    "tr_scales = []\n",
    "val_scales = []\n",
    "\n",
    "val_pts = []\n",
    "train_pts = []\n",
    "\n",
    "for data in te_dataset: \n",
    "    te_scales.append(data[\"test_points\"].norm(dim=-1).max())\n",
    "    \n",
    "\n",
    "\n",
    "for data in tr_dataset: \n",
    "    tr_scales.append(data[\"test_points\"].norm(dim=-1).max())\n",
    "    train_pts.append(data[\"test_points\"].unsqueeze(0))\n",
    "\n",
    "\n",
    "for data in val_dataset: \n",
    "    val_scales.append(data[\"test_points\"].norm(dim=-1).max())\n",
    "    val_pts.append(data[\"test_points\"].unsqueeze(0))\n",
    "\n",
    "tr_scales = torch.vstack(tr_scales).numpy()\n",
    "te_scales = torch.vstack(te_scales).numpy()\n",
    "val_scales = torch.vstack(val_scales).numpy()\n",
    "\n",
    "train_pts = torch.cat(train_pts)\n",
    "val_pts = torch.cat(val_pts)\n",
    "\n",
    "print(train_pts.shape)\n",
    "\n",
    "\n",
    "\n"
   ]
  },
  {
   "cell_type": "code",
   "execution_count": null,
   "metadata": {},
   "outputs": [],
   "source": [
    "\n",
    "import matplotlib.pyplot as plt\n",
    "import seaborn as sns \n",
    "\n",
    "sns.histplot(te_scales,color='blue',label=\"Test point scales\")\n",
    "sns.histplot(tr_scales,color='red',label=\"Train point scales\")\n",
    "sns.histplot(val_scales,color='green',label=\"Validation point scales\")\n",
    "\n",
    "\n",
    "\n"
   ]
  },
  {
   "cell_type": "code",
   "execution_count": null,
   "metadata": {},
   "outputs": [],
   "source": [
    "\n",
    "train_means = train_pts.mean(dim=1,keepdim=True)\n",
    "val_means = val_pts.mean(dim=1,keepdim=True)\n",
    "\n",
    "train_intrinsic_scales = (train_pts-train_means).norm(dim=-1).max(dim=-1)[0]\n",
    "val_intrinsic_scales = (val_pts-val_means).norm(dim=-1).max(dim=-1)[0]\n",
    "\n",
    "sns.histplot(x=train_intrinsic_scales.numpy(),color='blue',label=\"Train\")\n",
    "sns.histplot(x=val_intrinsic_scales.numpy(),color='red',label=\"Validation\")\n",
    "\n"
   ]
  },
  {
   "cell_type": "code",
   "execution_count": null,
   "metadata": {},
   "outputs": [],
   "source": [
    "\n",
    "\n",
    "import pyvista as pv \n",
    "\n",
    "pl = pv.Plotter()\n",
    "\n",
    "# Standard points\n",
    "actor = pl.add_points(\n",
    "    val_means.squeeze().numpy(),\n",
    "    style='points',\n",
    "    emissive=False,\n",
    "    render_points_as_spheres=True,\n",
    "    color=\"red\",\n",
    "    point_size=10,\n",
    "    ambient=0.7,\n",
    ")\n",
    "actor = pl.add_points(\n",
    "    train_means.squeeze().numpy(),\n",
    "    style='points',\n",
    "    render_points_as_spheres=True,\n",
    "    emissive=False,\n",
    "    color=\"blue\",\n",
    "    point_size=10,\n",
    "    ambient=0.7,\n",
    ")\n",
    "\n",
    "\n",
    "pl.show()\n",
    "\n"
   ]
  },
  {
   "cell_type": "markdown",
   "metadata": {},
   "source": [
    "\n",
    "```\n",
    "{'lgan_mmd-CD': tensor(0.0156),\n",
    " 'lgan_cov-CD': tensor(0.4642),\n",
    " 'lgan_mmd_smp-CD': tensor(0.0667),\n",
    " 'lgan_mmd-EMD': tensor(0.2479),\n",
    " 'lgan_cov-EMD': tensor(0.5210),\n",
    " 'lgan_mmd_smp-EMD': tensor(0.5638),\n",
    " '1-NN-CD-acc_t': tensor(0.7852),\n",
    " '1-NN-CD-acc_f': tensor(0.5704),\n",
    " '1-NN-CD-acc': tensor(0.6778),\n",
    " '1-NN-EMD-acc_t': tensor(0.6420),\n",
    " '1-NN-EMD-acc_f': tensor(0.5654),\n",
    " '1-NN-EMD-acc': tensor(0.6037)}\n",
    "```"
   ]
  }
 ],
 "metadata": {
  "kernelspec": {
   "display_name": ".venv",
   "language": "python",
   "name": "python3"
  },
  "language_info": {
   "codemirror_mode": {
    "name": "ipython",
    "version": 3
   },
   "file_extension": ".py",
   "mimetype": "text/x-python",
   "name": "python",
   "nbconvert_exporter": "python",
   "pygments_lexer": "ipython3",
   "version": "3.10.12"
  }
 },
 "nbformat": 4,
 "nbformat_minor": 2
}
