{
 "cells": [
  {
   "cell_type": "code",
   "execution_count": 5,
   "metadata": {},
   "outputs": [],
   "source": [
    "from datasets.config import MnistDataModuleConfig\n",
    "from datasets.mnist import MnistDataModule\n",
    "import torch_geometric\n",
    "import networkx as nx\n",
    "dataset = MnistDataModule(MnistDataModuleConfig())"
   ]
  },
  {
   "cell_type": "code",
   "execution_count": 9,
   "metadata": {},
   "outputs": [
    {
     "data": {
      "image/png": "[encoded data removed]",
      "text/plain": [
       "<Figure size 640x480 with 1 Axes>"
      ]
     },
     "metadata": {},
     "output_type": "display_data"
    }
   ],
   "source": [
    "data = dataset.entire_ds[6]\n",
    "\n",
    "g = torch_geometric.utils.to_networkx(data, to_undirected=True)\n",
    "nx.draw(g,pos=data.x.numpy())\n"
   ]
  },
  {
   "cell_type": "code",
   "execution_count": null,
   "metadata": {},
   "outputs": [],
   "source": [
    "import torch\n",
    "from torchvision.datasets import MNIST\n",
    "from torchvision.transforms import Compose, ToTensor, GaussianBlur \n",
    "import matplotlib.pyplot as plt\n",
    "from skimage.morphology import skeletonize\n",
    "from skimage import data\n",
    "import matplotlib.pyplot as plt\n",
    "from skimage.util import invert\n",
    "from datasets.transforms import CenterTransform\n",
    "from torch_geometric.transforms import FaceToEdge , KNNGraph\n",
    "import torch\n",
    "from torch_geometric.utils import degree\n",
    "from torch_geometric.data import Data\n",
    "import matplotlib.pyplot as plt\n",
    "import torchvision\n",
    "import vedo\n",
    "from layers.ect import EctLayer\n",
    "from layers.config import EctConfig\n",
    "from torch_geometric.data import Batch, Data\n",
    "\n",
    "from torch.utils.data import DataLoader\n",
    "\n",
    "import numpy as np\n",
    "\n",
    "\n",
    "class SkeletonGraph:\n",
    "    def __init__(self):\n",
    "        self.tr = torchvision.transforms.ToTensor()\n",
    "        self.knn = KNNGraph(k=2,force_undirected=True)\n",
    "        self.lin = torch.linspace(-1, 1, 28)\n",
    "\n",
    "    def __call__(self, data):\n",
    "        image, y = data\n",
    "        # perform skeletonization\n",
    "        skeleton = skeletonize(image.squeeze().numpy())\n",
    "        coordinates = np.where(skeleton>.5)\n",
    "        x_hat = torch.vstack(\n",
    "        [self.lin[coordinates[0]].squeeze(), self.lin[coordinates[1]].squeeze()]\n",
    "        ).T\n",
    "        \n",
    "        data = Data(\n",
    "            pos = x_hat,\n",
    "            x = x_hat,\n",
    "            y = y\n",
    "        )\n",
    "        data = self.knn(data)\n",
    "        data.pos = None\n",
    "        return data\n",
    "\n",
    "\n",
    "transform = Compose(\n",
    "            [\n",
    "                SkeletonGraph(),\n",
    "            ]\n",
    "        )\n",
    "\n",
    "dataset = MNIST(root=\"./data/MNISTVanilla\",transform=ToTensor())\n",
    "dataloader = DataLoader(dataset)\n",
    "\n",
    "for data in dataloader:\n",
    "    res = transform(data)\n",
    "    print(res)\n",
    "    break"
   ]
  }
 ],
 "metadata": {
  "kernelspec": {
   "display_name": "Python 3",
   "language": "python",
   "name": "python3"
  },
  "language_info": {
   "codemirror_mode": {
    "name": "ipython",
    "version": 3
   },
   "file_extension": ".py",
   "mimetype": "text/x-python",
   "name": "python",
   "nbconvert_exporter": "python",
   "pygments_lexer": "ipython3",
   "version": "3.10.11"
  }
 },
 "nbformat": 4,
 "nbformat_minor": 2
}
