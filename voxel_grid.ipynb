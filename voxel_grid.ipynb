{
 "cells": [
  {
   "cell_type": "code",
   "execution_count": 2,
   "metadata": {},
   "outputs": [],
   "source": [
    "import numpy as np \n",
    "import torch "
   ]
  },
  {
   "cell_type": "code",
   "execution_count": 3,
   "metadata": {},
   "outputs": [],
   "source": [
    "NUM_BINS = 128\n",
    "\n",
    "bins = np.linspace(-1,1,NUM_BINS+1,endpoint=True)\n",
    "rng = np.random.default_rng()\n",
    "r = 2*rng.uniform(size=(2048,3))-1\n",
    "H, edges = np.histogramdd(r, bins = (bins,bins,bins))\n",
    "\n",
    "\n",
    "\n",
    "\n"
   ]
  },
  {
   "cell_type": "code",
   "execution_count": 4,
   "metadata": {},
   "outputs": [
    {
     "data": {
      "text/plain": [
       "np.float64(0.0)"
      ]
     },
     "execution_count": 4,
     "metadata": {},
     "output_type": "execute_result"
    }
   ],
   "source": [
    "G = H - 1\n",
    "G[G<0]=0\n",
    "G.sum() "
   ]
  },
  {
   "cell_type": "code",
   "execution_count": 10,
   "metadata": {},
   "outputs": [
    {
     "data": {
      "text/plain": [
       "np.float64(0.17919921875)"
      ]
     },
     "execution_count": 10,
     "metadata": {},
     "output_type": "execute_result"
    }
   ],
   "source": [
    "# Load airplane\n",
    "pts = torch.load(\"results/rendered_ect/airplane/32_8_airplane_reconstructions.pt\")[7].cpu().numpy()\n",
    "\n",
    "NUM_BINS = 256\n",
    "bins = np.linspace(-1,1,NUM_BINS+1,endpoint=True)\n",
    "H, edges = np.histogramdd(pts, bins = (bins,bins,bins))\n",
    "G = H - 1\n",
    "G[G<0]=0\n",
    "G.sum() / len(pts)\n"
   ]
  },
  {
   "cell_type": "code",
   "execution_count": null,
   "metadata": {},
   "outputs": [],
   "source": []
  }
 ],
 "metadata": {
  "kernelspec": {
   "display_name": "Python 3",
   "language": "python",
   "name": "python3"
  },
  "language_info": {
   "codemirror_mode": {
    "name": "ipython",
    "version": 3
   },
   "file_extension": ".py",
   "mimetype": "text/x-python",
   "name": "python",
   "nbconvert_exporter": "python",
   "pygments_lexer": "ipython3",
   "version": "3.10.12"
  }
 },
 "nbformat": 4,
 "nbformat_minor": 2
}
