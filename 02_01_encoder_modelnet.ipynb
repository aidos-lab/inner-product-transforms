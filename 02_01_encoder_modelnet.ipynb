{
 "cells": [
  {
   "cell_type": "markdown",
   "metadata": {},
   "source": [
    "## Prepare imports"
   ]
  },
  {
   "cell_type": "code",
   "execution_count": 2,
   "metadata": {},
   "outputs": [],
   "source": [
    "import torch\n",
    "import matplotlib.pyplot as plt\n",
    "from omegaconf import OmegaConf\n",
    "\n",
    "\n",
    "from models.encoder import BaseModel as EctEncoder\n",
    "from datasets.modelnet import DataModule, DataModuleConfig\n",
    "from layers.ect import EctLayer, EctConfig\n",
    "from layers.directions import generate_directions\n",
    "\n",
    "\n",
    "DEVICE = \"cuda:0\"\n",
    "\n",
    "config = OmegaConf.load(\"./configs/config_encoder_modelnet.yaml\")"
   ]
  },
  {
   "cell_type": "markdown",
   "metadata": {},
   "source": [
    "## Load Models and Data"
   ]
  },
  {
   "cell_type": "code",
   "execution_count": 3,
   "metadata": {},
   "outputs": [
    {
     "name": "stderr",
     "output_type": "stream",
     "text": [
      "Processing...\n",
      "Done!\n"
     ]
    }
   ],
   "source": [
    "layer = EctLayer(\n",
    "    EctConfig(\n",
    "        num_thetas=config.layer.ect_size,\n",
    "        bump_steps=config.layer.ect_size,\n",
    "        normalized=True,\n",
    "        device=DEVICE,\n",
    "    ),\n",
    "    v=generate_directions(config.layer.ect_size,config.layer.dim, DEVICE),\n",
    ")\n",
    "\n",
    "dm = DataModule(\n",
    "    DataModuleConfig(name=\"40\")\n",
    ")\n",
    "\n",
    "# Load the encoder \n",
    "\n",
    "ect_encoder_litmodel = EctEncoder.load_from_checkpoint(\n",
    "    f\"./trained_models/ectencoder_modelnet.ckpt\",\n",
    "    layer=layer,\n",
    "    ect_size=config.layer.ect_size,\n",
    "    hidden_size=config.model.hidden_size,\n",
    "    num_pts=config.model.num_pts,\n",
    "    num_dims=config.model.num_dims,\n",
    "    learning_rate=config.model.learning_rate,\n",
    ").to(DEVICE)\n"
   ]
  },
  {
   "cell_type": "code",
   "execution_count": 5,
   "metadata": {},
   "outputs": [
    {
     "data": {
      "application/vnd.jupyter.widget-view+json": {
       "model_id": "79d90c502fc74ec68acbe11bd62c2dca",
       "version_major": 2,
       "version_minor": 0
      },
      "text/plain": [
       "Widget(value='<iframe src=\"http://localhost:54646/index.html?ui=P_0x1deb90c5ea0_1&reconnect=auto\" class=\"pyvis…"
      ]
     },
     "metadata": {},
     "output_type": "display_data"
    }
   ],
   "source": [
    "import pyvista as pv\n",
    "\n",
    "data_loader = dm.val_dataloader()\n",
    "for batch_idx, features in enumerate(data_loader):\n",
    "    break\n",
    "\n",
    "\n",
    "pl = pv.Plotter(shape=(1, 8), window_size=[1600, 200],border=False,polygon_smoothing=True,off_screen=True)\n",
    "\n",
    "\n",
    "for idx in range(8):\n",
    "    points = features[idx].x.reshape(-1, 3).numpy()\n",
    "    pl.subplot(0, idx)\n",
    "    actor = pl.add_points(\n",
    "        points,\n",
    "        style=\"points\",\n",
    "        emissive=False,\n",
    "        show_scalar_bar=False,\n",
    "        render_points_as_spheres=True,\n",
    "        scalars=points[:, 2],\n",
    "        point_size=5,\n",
    "        ambient=0.2, \n",
    "        diffuse=0.8, \n",
    "        specular=0.8,\n",
    "        specular_power=40, \n",
    "        smooth_shading=True\n",
    "    )\n",
    "\n",
    "\n",
    "pl.background_color = \"w\"\n",
    "pl.link_views()\n",
    "pl.camera_position = \"yz\"\n",
    "pos = pl.camera.position\n",
    "pl.camera.position = (pos[0],pos[1],pos[2]+3)\n",
    "pl.camera.azimuth = -45\n",
    "pl.camera.elevation = 10\n",
    "\n",
    "# create a top down light\n",
    "light = pv.Light(position=(0, 0, 3), positional=True,\n",
    "                cone_angle=50, exponent=20, intensity=.2)\n",
    "pl.add_light(light)\n",
    "pl.camera.zoom(1.3)\n",
    "# pl.screenshot(\"./figures/reconstructed_modelnet/reconstructed_pointcloud.png\",transparent_background=True,scale=2)\n",
    "pl.show()\n",
    "# path = pl.generate_orbital_path(n_points=64, shift=2, factor=3.0)\n",
    "# pl.open_gif(\"./figures/reconstructed_modelnet/orbit_cloud.gif\")\n",
    "# pl.orbit_on_path(path, write_frames=True)\n",
    "# pl.close()\n"
   ]
  },
  {
   "cell_type": "markdown",
   "metadata": {},
   "source": [
    "## Generate an ECT and use VAE as autoencoder to recreate the ECT"
   ]
  },
  {
   "cell_type": "code",
   "execution_count": 6,
   "metadata": {},
   "outputs": [
    {
     "data": {
      "application/vnd.jupyter.widget-view+json": {
       "model_id": "8b7eba035ad3485ebeac786d7e045231",
       "version_major": 2,
       "version_minor": 0
      },
      "text/plain": [
       "Widget(value='<iframe src=\"http://localhost:54646/index.html?ui=P_0x1dec3fb9210_2&reconnect=auto\" class=\"pyvis…"
      ]
     },
     "metadata": {},
     "output_type": "display_data"
    }
   ],
   "source": [
    "\n",
    "\n",
    "features.to(DEVICE)\n",
    "ect = layer(features,features.batch).unsqueeze(1)\n",
    "\n",
    "\n",
    "# Pass reconstruction through the point cloud decoder\n",
    "\n",
    "with torch.no_grad():\n",
    "    recon_batch = ect_encoder_litmodel.model.forward(ect)\n",
    "\n",
    "\n",
    "pl = pv.Plotter(shape=(8, 8), window_size=[1600, 1600],border=False,polygon_smoothing=True,off_screen=True)\n",
    "\n",
    "for row in range(8):\n",
    "    for col in range(8):\n",
    "        points = recon_batch[row*8 + col].reshape(-1, 3).detach().cpu().numpy()\n",
    "        pl.subplot(row, col)\n",
    "        actor = pl.add_points(\n",
    "            points,\n",
    "            style=\"points\",\n",
    "            emissive=False,\n",
    "            show_scalar_bar=False,\n",
    "            render_points_as_spheres=True,\n",
    "            scalars=points[:, 2],\n",
    "            point_size=5,\n",
    "            ambient=0.2, \n",
    "            diffuse=0.8, \n",
    "            specular=0.8,\n",
    "            specular_power=40, \n",
    "            smooth_shading=True\n",
    "        )\n",
    "\n",
    "\n",
    "pl.background_color = \"w\"\n",
    "pl.link_views()\n",
    "pl.camera_position = \"yz\"\n",
    "pos = pl.camera.position\n",
    "pl.camera.position = (pos[0],pos[1],pos[2]+3)\n",
    "pl.camera.azimuth = -45\n",
    "pl.camera.elevation = 10\n",
    "\n",
    "# create a top down light\n",
    "light = pv.Light(position=(0, 0, 3), positional=True,\n",
    "                cone_angle=50, exponent=20, intensity=.2)\n",
    "pl.add_light(light)\n",
    "pl.camera.zoom(1.3)\n",
    "# pl.screenshot(\"./figures/reconstructed_modelnet/reconstructed_pointcloud.png\",transparent_background=True,scale=2)\n",
    "pl.show()\n",
    "path = pl.generate_orbital_path(n_points=64, shift=2, factor=3.0)\n",
    "pl.open_gif(\"./figures/reconstructed_modelnet/orbit_cloud.gif\")\n",
    "pl.orbit_on_path(path, write_frames=True)\n",
    "pl.close()\n"
   ]
  },
  {
   "cell_type": "code",
   "execution_count": 15,
   "metadata": {},
   "outputs": [
    {
     "data": {
      "application/vnd.jupyter.widget-view+json": {
       "model_id": "a191239029b84d3cb55c4b770a90a074",
       "version_major": 2,
       "version_minor": 0
      },
      "text/plain": [
       "Widget(value='<iframe src=\"http://localhost:54646/index.html?ui=P_0x1e132307580_11&reconnect=auto\" class=\"pyvi…"
      ]
     },
     "metadata": {},
     "output_type": "display_data"
    }
   ],
   "source": [
    "\n",
    "\n",
    "features.to(DEVICE)\n",
    "ect = layer(features,features.batch).unsqueeze(1)\n",
    "\n",
    "\n",
    "# Pass reconstruction through the point cloud decoder\n",
    "\n",
    "with torch.no_grad():\n",
    "    recon_batch = ect_encoder_litmodel.model.forward(ect)\n",
    "\n",
    "\n",
    "pl = pv.Plotter(shape=(2, 8), window_size=[1600,400],border=False,polygon_smoothing=True,off_screen=True)\n",
    "\n",
    "row = 6\n",
    "for col in range(8):\n",
    "    points = recon_batch[row*8 + col].reshape(-1, 3).detach().cpu().numpy()\n",
    "    pl.subplot(0, col)\n",
    "    actor = pl.add_points(\n",
    "        points,\n",
    "        style=\"points\",\n",
    "        emissive=False,\n",
    "        show_scalar_bar=False,\n",
    "        render_points_as_spheres=True,\n",
    "        scalars=points[:, 2],\n",
    "        point_size=5,\n",
    "        ambient=0.2, \n",
    "        diffuse=0.8, \n",
    "        specular=0.8,\n",
    "        specular_power=40, \n",
    "        smooth_shading=True\n",
    "    )\n",
    "\n",
    "    true_points = features[row*8 + col].x.reshape(-1, 3).cpu().numpy()\n",
    "    pl.subplot(1, col)\n",
    "    actor = pl.add_points(\n",
    "        true_points,\n",
    "        style=\"points\",\n",
    "        emissive=False,\n",
    "        show_scalar_bar=False,\n",
    "        render_points_as_spheres=True,\n",
    "        scalars=true_points[:, 2],\n",
    "        point_size=5,\n",
    "        ambient=0.2, \n",
    "        diffuse=0.8, \n",
    "        specular=0.8,\n",
    "        specular_power=40, \n",
    "        smooth_shading=True\n",
    "    )\n",
    "\n",
    "\n",
    "pl.background_color = \"w\"\n",
    "pl.link_views()\n",
    "pl.camera_position = \"yz\"\n",
    "pos = pl.camera.position\n",
    "pl.camera.position = (pos[0],pos[1],pos[2]+3)\n",
    "pl.camera.azimuth = -45\n",
    "pl.camera.elevation = 10\n",
    "\n",
    "# create a top down light\n",
    "light = pv.Light(position=(0, 0, 3), positional=True,\n",
    "                cone_angle=50, exponent=20, intensity=.2)\n",
    "pl.add_light(light)\n",
    "pl.camera.zoom(1.3)\n",
    "pl.screenshot(\"./figures/img/modelnet/reconstructed_pointcloud.png\",transparent_background=True,scale=2)\n",
    "pl.show()\n",
    "path = pl.generate_orbital_path(n_points=64, shift=2, factor=3.0)\n",
    "pl.open_gif(\"./figures/img/modelnet/orbit_cloud.gif\")\n",
    "pl.orbit_on_path(path, write_frames=True)\n",
    "pl.close()"
   ]
  }
 ],
 "metadata": {
  "kernelspec": {
   "display_name": "Python 3",
   "language": "python",
   "name": "python3"
  },
  "language_info": {
   "codemirror_mode": {
    "name": "ipython",
    "version": 3
   },
   "file_extension": ".py",
   "mimetype": "text/x-python",
   "name": "python",
   "nbconvert_exporter": "python",
   "pygments_lexer": "ipython3",
   "version": "3.10.11"
  }
 },
 "nbformat": 4,
 "nbformat_minor": 2
}
