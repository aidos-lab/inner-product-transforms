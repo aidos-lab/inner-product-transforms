{
 "cells": [
  {
   "cell_type": "code",
   "execution_count": 1,
   "metadata": {},
   "outputs": [],
   "source": [
    "import torch\n",
    "from torch import nn\n",
    "import torch.nn.functional as F\n",
    "import numpy as np \n",
    "import pandas as pd\n",
    "from layers.ect import EctConfig, EctLayer\n",
    "from layers.directions import generate_uniform_directions, generate_directions\n",
    "import matplotlib.pyplot as plt\n",
    "from torch_geometric.data import Batch, Data\n",
    "import seaborn as sns\n",
    "\n",
    "# Borrow from https://github.com/ThibaultGROUEIX/AtlasNet\n",
    "def distChamfer(a, b):\n",
    "    x, y = a, b\n",
    "    bs, num_points, points_dim = x.size()\n",
    "    xx = torch.bmm(x, x.transpose(2, 1))\n",
    "    yy = torch.bmm(y, y.transpose(2, 1))\n",
    "    zz = torch.bmm(x, y.transpose(2, 1))\n",
    "    diag_ind = torch.arange(0, num_points).to(a).long()\n",
    "    rx = xx[:, diag_ind, diag_ind].unsqueeze(1).expand_as(xx)\n",
    "    ry = yy[:, diag_ind, diag_ind].unsqueeze(1).expand_as(yy)\n",
    "    P = (rx.transpose(2, 1) + ry - 2 * zz)\n",
    "    return (P.min(1)[0] + P.min(2)[0]).mean()\n"
   ]
  },
  {
   "cell_type": "code",
   "execution_count": 2,
   "metadata": {},
   "outputs": [],
   "source": [
    "ECT_SIZE = 256\n",
    "NUM_PTS = 1\n",
    "NUM_RERUNS = 10\n",
    "\n",
    "v = generate_uniform_directions(num_thetas=ECT_SIZE)\n",
    "loss_layer = EctLayer(\n",
    "    EctConfig(\n",
    "        bump_steps=ECT_SIZE,\n",
    "        num_thetas=ECT_SIZE,\n",
    "        device=\"cpu\",\n",
    "        ect_type=\"points_derivative\",\n",
    "        normalized=True,\n",
    "    ),\n",
    "    v=v,\n",
    ")\n",
    "\n",
    "def ect_kld_loss(batch_pred,batch_target,scale):\n",
    "    ect_pred = loss_layer(batch_pred, batch_pred.batch,scale)\n",
    "    ect_target = loss_layer(batch_target, batch_target.batch,scale)\n",
    "    ect_pred /= ect_pred.sum(axis=1, keepdim=True)\n",
    "    ect_target /= ect_target.sum(axis=1, keepdim=True)\n",
    "    eps = 10e-5\n",
    "    ect_pred += eps\n",
    "    ect_target += eps\n",
    "\n",
    "    d = (\n",
    "        F.kl_div(ect_pred.log(), ect_target, None, None, reduction=\"none\")\n",
    "        .sum(dim=-1)\n",
    "        .sum(dim=-1)\n",
    "        / NUM_PTS\n",
    "    )\n",
    "    return d\n",
    "\n",
    "\n",
    "def cd_loss(batch_pred,batch_target,num_pts):\n",
    "    pred = batch_pred.x.view(-1,num_pts,3)\n",
    "    target=batch_target.x.view(-1,num_pts,3)\n",
    "    d = distChamfer(pred,target)\n",
    "    return d"
   ]
  },
  {
   "cell_type": "code",
   "execution_count": null,
   "metadata": {},
   "outputs": [],
   "source": []
  }
 ],
 "metadata": {
  "kernelspec": {
   "display_name": "Python 3",
   "language": "python",
   "name": "python3"
  },
  "language_info": {
   "codemirror_mode": {
    "name": "ipython",
    "version": 3
   },
   "file_extension": ".py",
   "mimetype": "text/x-python",
   "name": "python",
   "nbconvert_exporter": "python",
   "pygments_lexer": "ipython3",
   "version": "3.10.11"
  }
 },
 "nbformat": 4,
 "nbformat_minor": 2
}
