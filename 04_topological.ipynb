{
 "cells": [
  {
   "cell_type": "markdown",
   "metadata": {},
   "source": [
    "## Prepare imports"
   ]
  },
  {
   "cell_type": "code",
   "execution_count": 38,
   "metadata": {},
   "outputs": [
    {
     "name": "stderr",
     "output_type": "stream",
     "text": [
      "C:\\Users\\ernst\\AppData\\Local\\Packages\\PythonSoftwareFoundation.Python.3.10_qbz5n2kfra8p0\\LocalCache\\local-packages\\Python310\\site-packages\\lightning\\pytorch\\utilities\\migration\\utils.py:56: The loaded checkpoint was produced with Lightning v2.3.3, which is newer than your current Lightning version: v2.2.3\n"
     ]
    }
   ],
   "source": [
    "import torch\n",
    "import numpy as np \n",
    "from datasets.topological import DataModule, DataModuleConfig\n",
    "import matplotlib.pyplot as plt\n",
    "import pyvista as pv\n",
    "from torch_geometric.data import Batch\n",
    "import pyvista as pv\n",
    "\n",
    "from models.encoder import BaseModel as Encoder\n",
    "\n",
    "from load_configs import load_config\n",
    "\n",
    "import matplotlib.pyplot as plt\n",
    "\n",
    "DEVICE = \"cuda:0\"\n",
    "\n",
    "from types import SimpleNamespace\n",
    "from datasets import load_datamodule\n",
    "import yaml\n",
    "import json\n",
    "\n",
    "from models.encoder import BaseModel as Encoder\n",
    "\n",
    "\n",
    "encoder_config = load_config(\"./configs/config_encoder_topological.yaml\")\n",
    "dm = load_datamodule(encoder_config.data)\n",
    "\n",
    "\n",
    "encoder = Encoder.load_from_checkpoint(f\"./trained_models/{encoder_config.modelconfig.save_name}\").to(DEVICE)\n",
    "\n",
    "\n"
   ]
  },
  {
   "cell_type": "code",
   "execution_count": 39,
   "metadata": {},
   "outputs": [
    {
     "data": {
      "text/plain": [
       "torch.Size([3, 96])"
      ]
     },
     "execution_count": 39,
     "metadata": {},
     "output_type": "execute_result"
    }
   ],
   "source": [
    "encoder.layer.v.shape"
   ]
  },
  {
   "cell_type": "markdown",
   "metadata": {},
   "source": [
    "## Load Models and Data"
   ]
  },
  {
   "cell_type": "code",
   "execution_count": 40,
   "metadata": {},
   "outputs": [],
   "source": [
    "# batch_len = len(dm.test_dataloader())\n",
    "test_ds = dm.test_ds\n",
    "\n",
    "# For each class, grab 16 samples.\n",
    "mfld_classes = test_ds.y.unique() \n",
    "\n",
    "test_data_list = []\n",
    "\n",
    "for idx in mfld_classes: \n",
    "    test_data_list.extend([test_ds[test_ds.y == idx][i] for i in range(1)])\n",
    "\n",
    "\n",
    "test_batch = Batch.from_data_list(test_data_list).to(DEVICE)\n",
    "points_batch = test_batch.x.cpu().detach().view(-1,1024,3).numpy()\n"
   ]
  },
  {
   "cell_type": "code",
   "execution_count": 41,
   "metadata": {},
   "outputs": [
    {
     "data": {
      "application/vnd.jupyter.widget-view+json": {
       "model_id": "d366caad085c4e31bd4d910a647e0322",
       "version_major": 2,
       "version_minor": 0
      },
      "text/plain": [
       "Widget(value='<iframe src=\"http://localhost:50074/index.html?ui=P_0x1b4375485e0_16&reconnect=auto\" class=\"pyvi…"
      ]
     },
     "metadata": {},
     "output_type": "display_data"
    }
   ],
   "source": [
    "\n",
    "ect = encoder.layer(test_batch,test_batch.batch).unsqueeze(1)\n",
    "\n",
    "\n",
    "with torch.no_grad():\n",
    "    recon_pts = encoder(ect)\n",
    "    # recon_ect_vae, theinput, z_mean, z_log_var = vae_litmodel.forward(ect)\n",
    "\n",
    "# Undo the VAE transform\n",
    "# recon_ect_vae = (recon_ect_vae + 1 ) / 2\n",
    "\n",
    "# with torch.no_grad():\n",
    "#     recon_vae_pts = ect_encoder_litmodel.model.forward(recon_ect_vae).cpu().detach().numpy()\n",
    "\n",
    "\n",
    "pl = pv.Plotter(shape=(1, 4), window_size=[1600, 400],border=False,polygon_smoothing=True)\n",
    "\n",
    "\n",
    "for idx in range(4):\n",
    "    # points_vae = recon_vae_pts[idx].reshape(-1, 3)\n",
    "    # pl.subplot(0, idx)\n",
    "    # actor = pl.add_points(\n",
    "    #     points_vae,\n",
    "    #     style=\"points\",\n",
    "    #     emissive=False,\n",
    "    #     show_scalar_bar=False,\n",
    "    #     render_points_as_spheres=True,\n",
    "    #     scalars=points_vae[:, 2],\n",
    "    #     point_size=5,\n",
    "    #     ambient=0.2, \n",
    "    #     diffuse=0.8, \n",
    "    #     specular=0.8,\n",
    "    #     specular_power=40, \n",
    "    #     smooth_shading=True\n",
    "    # )\n",
    "\n",
    "    points = recon_pts[idx].reshape(-1, 3).cpu().detach().numpy()\n",
    "    pl.subplot(0, idx)\n",
    "    actor = pl.add_points(\n",
    "        points,\n",
    "        style=\"points\",\n",
    "        emissive=False,\n",
    "        show_scalar_bar=False,\n",
    "        render_points_as_spheres=True,\n",
    "        scalars=points[:, 2],\n",
    "        point_size=2,\n",
    "        ambient=0.2, \n",
    "        diffuse=0.8, \n",
    "        specular=0.8,\n",
    "        specular_power=40, \n",
    "        smooth_shading=True\n",
    "    )\n",
    "\n",
    "\n",
    "\n",
    "pl.background_color = \"w\"\n",
    "pl.link_views()\n",
    "pl.camera_position = \"yz\"\n",
    "pos = pl.camera.position\n",
    "pl.camera.position = (pos[0],pos[1],pos[2]+3)\n",
    "pl.camera.azimuth = -45\n",
    "pl.camera.elevation = 10\n",
    "\n",
    "# create a top down light\n",
    "light = pv.Light(position=(0, 0, 3), positional=True,\n",
    "                cone_angle=50, exponent=20, intensity=.2)\n",
    "pl.add_light(light)\n",
    "pl.camera.zoom(1.3)\n",
    "pl.screenshot(\"./figures/img/topological/reconstructed_pointcloud.png\",transparent_background=True,scale=2)\n",
    "pl.show()\n",
    "\n"
   ]
  },
  {
   "cell_type": "markdown",
   "metadata": {},
   "source": [
    "# Interpolate between the ECT's "
   ]
  },
  {
   "cell_type": "code",
   "execution_count": 42,
   "metadata": {},
   "outputs": [
    {
     "data": {
      "application/vnd.jupyter.widget-view+json": {
       "model_id": "60f18bb699f04ebaa45057321c4f824c",
       "version_major": 2,
       "version_minor": 0
      },
      "text/plain": [
       "Widget(value='<iframe src=\"http://localhost:50074/index.html?ui=P_0x1b437433430_17&reconnect=auto\" class=\"pyvi…"
      ]
     },
     "metadata": {},
     "output_type": "display_data"
    }
   ],
   "source": [
    "START = 1\n",
    "END = 3\n",
    "STEPS = 10\n",
    "ect = encoder.layer(test_batch,test_batch.batch).unsqueeze(1)\n",
    "\n",
    "with torch.no_grad():\n",
    "    t = torch.tensor(np.linspace(0,1,STEPS,endpoint=True)).view(-1,1,1).cuda()\n",
    "    ect_interp = (t * ect[START].repeat((STEPS,1,1)) + (1-t) * ect[END].repeat((STEPS,1,1))).to(torch.float32)\n",
    "    ect_interp_pc = encoder(ect_interp.unsqueeze(1))\n",
    "\n",
    "\n",
    "\n",
    "pl = pv.Plotter(shape=(1, 10), window_size=[1600, 400],border=False,polygon_smoothing=True)\n",
    "\n",
    "for idx in range(10):\n",
    "\n",
    "    points = ect_interp_pc[idx].reshape(-1, 3).cpu().detach().numpy()\n",
    "    pl.subplot(0, idx)\n",
    "    actor = pl.add_points(\n",
    "        points,\n",
    "        style=\"points\",\n",
    "        emissive=False,\n",
    "        show_scalar_bar=False,\n",
    "        render_points_as_spheres=True,\n",
    "        scalars=points[:, 2],\n",
    "        point_size=6,\n",
    "        ambient=0.2, \n",
    "        diffuse=0.8, \n",
    "        specular=0.8,\n",
    "        specular_power=40, \n",
    "        smooth_shading=True\n",
    "    )\n",
    "\n",
    "\n",
    "\n",
    "pl.background_color = \"w\"\n",
    "pl.link_views()\n",
    "pl.camera_position = \"yz\"\n",
    "pos = pl.camera.position\n",
    "pl.camera.position = (pos[0],pos[1],pos[2]+3)\n",
    "pl.camera.azimuth = -45\n",
    "pl.camera.elevation = 10\n",
    "\n",
    "# create a top down light\n",
    "light = pv.Light(position=(0, 0, 3), positional=True,\n",
    "                cone_angle=50, exponent=20, intensity=.2)\n",
    "pl.add_light(light)\n",
    "pl.camera.zoom(1.3)\n",
    "pl.screenshot(\"./figures/img/topological/interpolate_mobius_torus_pointcloud.png\",transparent_background=True,scale=2)\n",
    "pl.show()\n"
   ]
  },
  {
   "cell_type": "markdown",
   "metadata": {},
   "source": [
    "## Sample from VAE and reconstruct points "
   ]
  },
  {
   "cell_type": "code",
   "execution_count": 43,
   "metadata": {},
   "outputs": [
    {
     "ename": "NameError",
     "evalue": "name 'vae_litmodel' is not defined",
     "output_type": "error",
     "traceback": [
      "\u001b[1;31m---------------------------------------------------------------------------\u001b[0m",
      "\u001b[1;31mNameError\u001b[0m                                 Traceback (most recent call last)",
      "Cell \u001b[1;32mIn[43], line 1\u001b[0m\n\u001b[1;32m----> 1\u001b[0m samples \u001b[38;5;241m=\u001b[39m \u001b[43mvae_litmodel\u001b[49m\u001b[38;5;241m.\u001b[39mmodel\u001b[38;5;241m.\u001b[39msample(\u001b[38;5;241m64\u001b[39m, \u001b[38;5;124m\"\u001b[39m\u001b[38;5;124mcuda:0\u001b[39m\u001b[38;5;124m\"\u001b[39m)\n\u001b[0;32m      2\u001b[0m samples \u001b[38;5;241m=\u001b[39m (samples \u001b[38;5;241m+\u001b[39m \u001b[38;5;241m1\u001b[39m ) \u001b[38;5;241m/\u001b[39m \u001b[38;5;241m2\u001b[39m\n\u001b[0;32m      4\u001b[0m n_images \u001b[38;5;241m=\u001b[39m \u001b[38;5;241m2\u001b[39m\n",
      "\u001b[1;31mNameError\u001b[0m: name 'vae_litmodel' is not defined"
     ]
    }
   ],
   "source": [
    "samples = vae_litmodel.model.sample(64, \"cuda:0\")\n",
    "samples = (samples + 1 ) / 2\n",
    "\n",
    "n_images = 2\n",
    "\n",
    "fig, axes = plt.subplots(\n",
    "    nrows=1, ncols=n_images, sharex=True, sharey=True, figsize=(4,4)\n",
    ")\n",
    "fig.subplots_adjust(wspace=0.05,hspace=0.05)\n",
    "\n",
    "for sample, ax in zip(samples,axes.T):\n",
    "    ax.imshow(sample.cpu().detach().squeeze().numpy(),cmap=\"bone\",vmin=-0.5,vmax=1.5)\n",
    "    ax.axis(\"off\")\n",
    "\n",
    "plt.savefig(\"./figures/img/topological/generated_samples.svg\",transparent=True)"
   ]
  },
  {
   "cell_type": "code",
   "execution_count": 12,
   "metadata": {},
   "outputs": [
    {
     "data": {
      "application/vnd.jupyter.widget-view+json": {
       "model_id": "b8ef2fd20da74a85ad90ded48ad63d89",
       "version_major": 2,
       "version_minor": 0
      },
      "text/plain": [
       "Widget(value='<iframe src=\"http://localhost:64571/index.html?ui=P_0x22242b8fc40_3&reconnect=auto\" class=\"pyvis…"
      ]
     },
     "metadata": {},
     "output_type": "display_data"
    }
   ],
   "source": [
    "\n",
    "import pyvista as pv\n",
    "\n",
    "pl = pv.Plotter(shape=(1, 2), window_size=[400, 200],border=False,polygon_smoothing=True)\n",
    "\n",
    "with torch.no_grad():\n",
    "    batch_decoded = ect_encoder_litmodel.model.forward(samples)\n",
    "\n",
    "batch_decoded = batch_decoded.cpu().detach().numpy()\n",
    "\n",
    "points = batch_decoded[0].reshape(-1, 3)\n",
    "pl.subplot(0,0)\n",
    "actor = pl.add_points(\n",
    "    points,\n",
    "    style=\"points\",\n",
    "    emissive=False,\n",
    "    show_scalar_bar=False,\n",
    "    render_points_as_spheres=True,\n",
    "    scalars=points[:, 2],\n",
    "    point_size=5,\n",
    "    ambient=0.2, \n",
    "    diffuse=0.8, \n",
    "    specular=0.8,\n",
    "    specular_power=40, \n",
    "    smooth_shading=True\n",
    ")\n",
    "\n",
    "\n",
    "points = batch_decoded[1].reshape(-1, 3)\n",
    "pl.subplot(0,1)\n",
    "actor = pl.add_points(\n",
    "    points,\n",
    "    style=\"points\",\n",
    "    emissive=False,\n",
    "    show_scalar_bar=False,\n",
    "    render_points_as_spheres=True,\n",
    "    scalars=points[:, 2],\n",
    "    point_size=5,\n",
    "    ambient=0.2, \n",
    "    diffuse=0.8, \n",
    "    specular=0.8,\n",
    "    specular_power=40, \n",
    "    smooth_shading=True\n",
    ")\n",
    "\n",
    "\n",
    "\n",
    "pl.background_color = \"w\"\n",
    "pl.link_views()\n",
    "pl.camera_position = \"yz\"\n",
    "pos = pl.camera.position\n",
    "pl.camera.position = (pos[0],pos[1],pos[2]+3)\n",
    "pl.camera.azimuth = -45\n",
    "pl.camera.elevation = 10\n",
    "\n",
    "# create a top down light\n",
    "light = pv.Light(position=(0, 0, 3), positional=True,\n",
    "                cone_angle=50, exponent=20, intensity=.2)\n",
    "pl.add_light(light)\n",
    "pl.camera.zoom(1.3)\n",
    "pl.screenshot(\"./figures/img/topological/generated_samples.png\",transparent_background=True,scale=2)\n",
    "pl.show()"
   ]
  },
  {
   "cell_type": "code",
   "execution_count": null,
   "metadata": {},
   "outputs": [],
   "source": []
  }
 ],
 "metadata": {
  "kernelspec": {
   "display_name": "Python 3",
   "language": "python",
   "name": "python3"
  },
  "language_info": {
   "codemirror_mode": {
    "name": "ipython",
    "version": 3
   },
   "file_extension": ".py",
   "mimetype": "text/x-python",
   "name": "python",
   "nbconvert_exporter": "python",
   "pygments_lexer": "ipython3",
   "version": "3.10.11"
  }
 },
 "nbformat": 4,
 "nbformat_minor": 2
}
