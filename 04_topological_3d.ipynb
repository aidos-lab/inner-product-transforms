{
 "cells": [
  {
   "cell_type": "markdown",
   "metadata": {},
   "source": [
    "## Prepare imports"
   ]
  },
  {
   "cell_type": "code",
   "execution_count": 1,
   "metadata": {},
   "outputs": [],
   "source": [
    "from datasets.topological import DataModule, DataModuleConfig\n",
    "import torch\n",
    "import matplotlib.pyplot as plt\n",
    "from omegaconf import OmegaConf\n",
    "import pyvista as pv\n",
    "\n",
    "from torch_geometric.data import Batch\n",
    "\n",
    "from models.encoder_3d import BaseModel as EctEncoder\n",
    "from layers.ect import EctLayer, EctConfig\n",
    "\n",
    "from metrics.metrics import get_mse_metrics\n",
    "from metrics.accuracies import compute_mse_accuracies\n",
    "from layers.directions import generate_multiview_directions\n",
    "\n",
    "from omegaconf import OmegaConf\n",
    "import torch\n",
    "import matplotlib.pyplot as plt\n",
    "\n",
    "from models.vae import VanillaVAE,BaseModel\n",
    "from metrics.metrics import get_mse_metrics\n",
    "from metrics.accuracies import compute_mse_accuracies\n",
    "from layers.ect import EctLayer, EctConfig\n",
    "\n",
    "from metrics.loss import compute_mse_kld_loss_fn\n",
    "\n",
    "\n",
    "DEVICE = \"cuda:0\"\n",
    "\n",
    "ectencoder_config = OmegaConf.load(\"./configs/config_encoder_topological_3d.yaml\")\n",
    "dm = DataModule(DataModuleConfig())\n"
   ]
  },
  {
   "cell_type": "markdown",
   "metadata": {},
   "source": [
    "## Load Models and Data"
   ]
  },
  {
   "cell_type": "code",
   "execution_count": 2,
   "metadata": {},
   "outputs": [],
   "source": [
    "layer = EctLayer(\n",
    "    EctConfig(\n",
    "        num_thetas=ectencoder_config.layer.ect_size,\n",
    "        bump_steps=ectencoder_config.layer.ect_size,\n",
    "        normalized=True,\n",
    "        device=DEVICE,\n",
    "    ),\n",
    "    v=generate_multiview_directions(ectencoder_config.layer.ect_size, ectencoder_config.layer.dim),\n",
    ")\n",
    "\n",
    "# Load the encoder \n",
    "\n",
    "ect_encoder_litmodel = EctEncoder.load_from_checkpoint(\n",
    "    f\"./trained_models/ectencoder_topological_3d.ckpt\",\n",
    "    layer=layer,\n",
    "    ect_size=ectencoder_config.layer.ect_size,\n",
    "    hidden_size=ectencoder_config.model.hidden_size,\n",
    "    num_pts=ectencoder_config.model.num_pts,\n",
    "    num_dims=ectencoder_config.model.num_dims,\n",
    "    learning_rate=ectencoder_config.model.learning_rate,\n",
    ").to(DEVICE)\n",
    "\n",
    "# vae_model = VanillaVAE(\n",
    "#     in_channels=vae_config.model.in_channels,\n",
    "#     latent_dim=vae_config.model.latent_dim,\n",
    "#     img_size=vae_config.layer.ect_size,\n",
    "# )\n",
    "\n",
    "# # Load the VAE model\n",
    "\n",
    "# metrics = get_mse_metrics()\n",
    "\n",
    "# vae_litmodel = BaseModel.load_from_checkpoint(\n",
    "#     f\"./trained_models/{vae_config.model.save_name}\",\n",
    "#     model=vae_model,\n",
    "#     training_accuracy=metrics[0],\n",
    "#     test_accuracy=metrics[1],\n",
    "#     validation_accuracy=metrics[2],\n",
    "#     accuracies_fn=compute_mse_accuracies,\n",
    "#     loss_fn=compute_mse_kld_loss_fn,\n",
    "#     learning_rate=vae_config.litmodel.learning_rate,\n",
    "#     layer=layer,\n",
    "# ).to(DEVICE)\n"
   ]
  },
  {
   "cell_type": "code",
   "execution_count": 3,
   "metadata": {},
   "outputs": [],
   "source": [
    "# batch_len = len(dm.test_dataloader())\n",
    "test_ds = dm.test_ds\n",
    "\n",
    "# For each class, grab 16 samples.\n",
    "mfld_classes = test_ds.y.unique() \n",
    "\n",
    "test_data_list = []\n",
    "\n",
    "for idx in mfld_classes: \n",
    "    test_data_list.extend([test_ds[test_ds.y == idx][i] for i in range(1)])\n",
    "\n",
    "\n",
    "test_batch = Batch.from_data_list(test_data_list).to(DEVICE)\n",
    "points_batch = test_batch.x.cpu().detach().view(-1,1024,3).numpy()\n"
   ]
  },
  {
   "cell_type": "code",
   "execution_count": 4,
   "metadata": {},
   "outputs": [
    {
     "data": {
      "application/vnd.jupyter.widget-view+json": {
       "model_id": "f6117b35c2a24e6c830ad8928de945d1",
       "version_major": 2,
       "version_minor": 0
      },
      "text/plain": [
       "Widget(value='<iframe src=\"http://localhost:53787/index.html?ui=P_0x1671a142140_0&reconnect=auto\" class=\"pyvis…"
      ]
     },
     "metadata": {},
     "output_type": "display_data"
    }
   ],
   "source": [
    "import pyvista as pv\n",
    "\n",
    "ect = layer(test_batch,test_batch.batch).unsqueeze(1)\n",
    "\n",
    "\n",
    "with torch.no_grad():\n",
    "    recon_pts = ect_encoder_litmodel.model.forward(ect)\n",
    "    # recon_ect_vae, theinput, z_mean, z_log_var = vae_litmodel.forward(ect)\n",
    "\n",
    "# Undo the VAE transform\n",
    "# recon_ect_vae = (recon_ect_vae + 1 ) / 2\n",
    "\n",
    "# with torch.no_grad():\n",
    "#     recon_vae_pts = ect_encoder_litmodel.model.forward(recon_ect_vae).cpu().detach().numpy()\n",
    "\n",
    "\n",
    "\n",
    "\n",
    "pl = pv.Plotter(shape=(2, 4), window_size=[800, 400],border=False,polygon_smoothing=True)\n",
    "\n",
    "row=2\n",
    "for idx in range(4):\n",
    "    # points_vae = recon_vae_pts[idx].reshape(-1, 3)\n",
    "    # pl.subplot(0, idx)\n",
    "    # actor = pl.add_points(\n",
    "    #     points_vae,\n",
    "    #     style=\"points\",\n",
    "    #     emissive=False,\n",
    "    #     show_scalar_bar=False,\n",
    "    #     render_points_as_spheres=True,\n",
    "    #     scalars=points_vae[:, 2],\n",
    "    #     point_size=5,\n",
    "    #     ambient=0.2, \n",
    "    #     diffuse=0.8, \n",
    "    #     specular=0.8,\n",
    "    #     specular_power=40, \n",
    "    #     smooth_shading=True\n",
    "    # )\n",
    "\n",
    "    points = recon_pts[idx].reshape(-1, 3).cpu().detach().numpy()\n",
    "    pl.subplot(1, idx)\n",
    "    actor = pl.add_points(\n",
    "        points,\n",
    "        style=\"points\",\n",
    "        emissive=False,\n",
    "        show_scalar_bar=False,\n",
    "        render_points_as_spheres=True,\n",
    "        scalars=points[:, 2],\n",
    "        point_size=5,\n",
    "        ambient=0.2, \n",
    "        diffuse=0.8, \n",
    "        specular=0.8,\n",
    "        specular_power=40, \n",
    "        smooth_shading=True\n",
    "    )\n",
    "\n",
    "\n",
    "\n",
    "pl.background_color = \"w\"\n",
    "pl.link_views()\n",
    "pl.camera_position = \"yz\"\n",
    "pos = pl.camera.position\n",
    "pl.camera.position = (pos[0],pos[1],pos[2]+3)\n",
    "pl.camera.azimuth = -45\n",
    "pl.camera.elevation = 10\n",
    "\n",
    "# create a top down light\n",
    "light = pv.Light(position=(0, 0, 3), positional=True,\n",
    "                cone_angle=50, exponent=20, intensity=.2)\n",
    "pl.add_light(light)\n",
    "pl.camera.zoom(1.3)\n",
    "pl.screenshot(\"./figures/img/topological/reconstructed_pointcloud.png\",transparent_background=True,scale=2)\n",
    "pl.show()\n",
    "\n"
   ]
  },
  {
   "cell_type": "code",
   "execution_count": 5,
   "metadata": {},
   "outputs": [
    {
     "ename": "NameError",
     "evalue": "name 'recon_ect_vae' is not defined",
     "output_type": "error",
     "traceback": [
      "\u001b[1;31m---------------------------------------------------------------------------\u001b[0m",
      "\u001b[1;31mNameError\u001b[0m                                 Traceback (most recent call last)",
      "Cell \u001b[1;32mIn[5], line 10\u001b[0m\n\u001b[0;32m      5\u001b[0m fig, axes \u001b[38;5;241m=\u001b[39m plt\u001b[38;5;241m.\u001b[39msubplots(\n\u001b[0;32m      6\u001b[0m     nrows\u001b[38;5;241m=\u001b[39m\u001b[38;5;241m2\u001b[39m, ncols\u001b[38;5;241m=\u001b[39mn_images, sharex\u001b[38;5;241m=\u001b[39m\u001b[38;5;28;01mTrue\u001b[39;00m, sharey\u001b[38;5;241m=\u001b[39m\u001b[38;5;28;01mTrue\u001b[39;00m, figsize\u001b[38;5;241m=\u001b[39m(\u001b[38;5;241m8\u001b[39m,\u001b[38;5;241m4\u001b[39m)\n\u001b[0;32m      7\u001b[0m )\n\u001b[0;32m      8\u001b[0m fig\u001b[38;5;241m.\u001b[39msubplots_adjust(wspace\u001b[38;5;241m=\u001b[39m\u001b[38;5;241m0.05\u001b[39m,hspace\u001b[38;5;241m=\u001b[39m\u001b[38;5;241m0.05\u001b[39m)\n\u001b[1;32m---> 10\u001b[0m \u001b[38;5;28;01mfor\u001b[39;00m orig_img, recon_img,ax \u001b[38;5;129;01min\u001b[39;00m \u001b[38;5;28mzip\u001b[39m(ect,\u001b[43mrecon_ect_vae\u001b[49m,axes\u001b[38;5;241m.\u001b[39mT):\n\u001b[0;32m     12\u001b[0m     ax[\u001b[38;5;241m0\u001b[39m]\u001b[38;5;241m.\u001b[39mimshow(recon_img\u001b[38;5;241m.\u001b[39mcpu()\u001b[38;5;241m.\u001b[39mdetach()\u001b[38;5;241m.\u001b[39msqueeze()\u001b[38;5;241m.\u001b[39mnumpy(),cmap\u001b[38;5;241m=\u001b[39m\u001b[38;5;124m\"\u001b[39m\u001b[38;5;124mbone\u001b[39m\u001b[38;5;124m\"\u001b[39m,vmin\u001b[38;5;241m=\u001b[39m\u001b[38;5;241m-\u001b[39m\u001b[38;5;241m0.5\u001b[39m,vmax\u001b[38;5;241m=\u001b[39m\u001b[38;5;241m1.5\u001b[39m)\n\u001b[0;32m     13\u001b[0m     ax[\u001b[38;5;241m0\u001b[39m]\u001b[38;5;241m.\u001b[39maxis(\u001b[38;5;124m\"\u001b[39m\u001b[38;5;124moff\u001b[39m\u001b[38;5;124m\"\u001b[39m)\n",
      "\u001b[1;31mNameError\u001b[0m: name 'recon_ect_vae' is not defined"
     ]
    },
    {
     "data": {
      "image/png": "[encoded data removed]",
      "text/plain": [
       "<Figure size 800x400 with 8 Axes>"
      ]
     },
     "metadata": {},
     "output_type": "display_data"
    }
   ],
   "source": [
    "# Plot ect\n",
    "\n",
    "n_images = 4\n",
    "\n",
    "fig, axes = plt.subplots(\n",
    "    nrows=2, ncols=n_images, sharex=True, sharey=True, figsize=(8,4)\n",
    ")\n",
    "fig.subplots_adjust(wspace=0.05,hspace=0.05)\n",
    "\n",
    "for orig_img, recon_img,ax in zip(ect,recon_ect_vae,axes.T):\n",
    "    \n",
    "    ax[0].imshow(recon_img.cpu().detach().squeeze().numpy(),cmap=\"bone\",vmin=-0.5,vmax=1.5)\n",
    "    ax[0].axis(\"off\")\n",
    "    ax[1].imshow(orig_img.cpu().detach().squeeze().numpy(),cmap=\"bone\",vmin=-0.5,vmax=1.5)\n",
    "    ax[1].axis(\"off\")\n",
    "    \n",
    "\n",
    "plt.savefig(\"./figures/img/topological/reconstructed_ect_vae.svg\",transparent=True)"
   ]
  },
  {
   "cell_type": "markdown",
   "metadata": {},
   "source": [
    "## Sample from VAE and reconstruct points "
   ]
  },
  {
   "cell_type": "code",
   "execution_count": null,
   "metadata": {},
   "outputs": [
    {
     "data": {
      "image/png": "[encoded data removed]",
      "text/plain": [
       "<Figure size 400x400 with 2 Axes>"
      ]
     },
     "metadata": {},
     "output_type": "display_data"
    }
   ],
   "source": [
    "samples = vae_litmodel.model.sample(64, \"cuda:0\")\n",
    "samples = (samples + 1 ) / 2\n",
    "\n",
    "n_images = 2\n",
    "\n",
    "fig, axes = plt.subplots(\n",
    "    nrows=1, ncols=n_images, sharex=True, sharey=True, figsize=(4,4)\n",
    ")\n",
    "fig.subplots_adjust(wspace=0.05,hspace=0.05)\n",
    "\n",
    "for sample, ax in zip(samples,axes.T):\n",
    "    ax.imshow(sample.cpu().detach().squeeze().numpy(),cmap=\"bone\",vmin=-0.5,vmax=1.5)\n",
    "    ax.axis(\"off\")\n",
    "\n",
    "plt.savefig(\"./figures/img/topological/generated_samples.svg\",transparent=True)"
   ]
  },
  {
   "cell_type": "code",
   "execution_count": null,
   "metadata": {},
   "outputs": [
    {
     "data": {
      "application/vnd.jupyter.widget-view+json": {
       "model_id": "b8ef2fd20da74a85ad90ded48ad63d89",
       "version_major": 2,
       "version_minor": 0
      },
      "text/plain": [
       "Widget(value='<iframe src=\"http://localhost:64571/index.html?ui=P_0x22242b8fc40_3&reconnect=auto\" class=\"pyvis…"
      ]
     },
     "metadata": {},
     "output_type": "display_data"
    }
   ],
   "source": [
    "\n",
    "import pyvista as pv\n",
    "\n",
    "pl = pv.Plotter(shape=(1, 2), window_size=[400, 200],border=False,polygon_smoothing=True)\n",
    "\n",
    "with torch.no_grad():\n",
    "    batch_decoded = ect_encoder_litmodel.model.forward(samples)\n",
    "\n",
    "batch_decoded = batch_decoded.cpu().detach().numpy()\n",
    "\n",
    "points = batch_decoded[0].reshape(-1, 3)\n",
    "pl.subplot(0,0)\n",
    "actor = pl.add_points(\n",
    "    points,\n",
    "    style=\"points\",\n",
    "    emissive=False,\n",
    "    show_scalar_bar=False,\n",
    "    render_points_as_spheres=True,\n",
    "    scalars=points[:, 2],\n",
    "    point_size=5,\n",
    "    ambient=0.2, \n",
    "    diffuse=0.8, \n",
    "    specular=0.8,\n",
    "    specular_power=40, \n",
    "    smooth_shading=True\n",
    ")\n",
    "\n",
    "\n",
    "points = batch_decoded[1].reshape(-1, 3)\n",
    "pl.subplot(0,1)\n",
    "actor = pl.add_points(\n",
    "    points,\n",
    "    style=\"points\",\n",
    "    emissive=False,\n",
    "    show_scalar_bar=False,\n",
    "    render_points_as_spheres=True,\n",
    "    scalars=points[:, 2],\n",
    "    point_size=5,\n",
    "    ambient=0.2, \n",
    "    diffuse=0.8, \n",
    "    specular=0.8,\n",
    "    specular_power=40, \n",
    "    smooth_shading=True\n",
    ")\n",
    "\n",
    "\n",
    "\n",
    "pl.background_color = \"w\"\n",
    "pl.link_views()\n",
    "pl.camera_position = \"yz\"\n",
    "pos = pl.camera.position\n",
    "pl.camera.position = (pos[0],pos[1],pos[2]+3)\n",
    "pl.camera.azimuth = -45\n",
    "pl.camera.elevation = 10\n",
    "\n",
    "# create a top down light\n",
    "light = pv.Light(position=(0, 0, 3), positional=True,\n",
    "                cone_angle=50, exponent=20, intensity=.2)\n",
    "pl.add_light(light)\n",
    "pl.camera.zoom(1.3)\n",
    "pl.screenshot(\"./figures/img/topological/generated_samples.png\",transparent_background=True,scale=2)\n",
    "pl.show()"
   ]
  },
  {
   "cell_type": "code",
   "execution_count": null,
   "metadata": {},
   "outputs": [],
   "source": []
  }
 ],
 "metadata": {
  "kernelspec": {
   "display_name": "Python 3",
   "language": "python",
   "name": "python3"
  },
  "language_info": {
   "codemirror_mode": {
    "name": "ipython",
    "version": 3
   },
   "file_extension": ".py",
   "mimetype": "text/x-python",
   "name": "python",
   "nbconvert_exporter": "python",
   "pygments_lexer": "ipython3",
   "version": "3.10.11"
  }
 },
 "nbformat": 4,
 "nbformat_minor": 2
}
