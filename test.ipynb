{
 "cells": [
  {
   "cell_type": "code",
   "execution_count": 1,
   "metadata": {},
   "outputs": [],
   "source": [
    "import numpy as np\n",
    "import torch\n",
    "import pyvista as pv\n",
    "\n",
    "from datasets.topological import (\n",
    "    TopolocigalDataModule,\n",
    "    TopologicalDataModuleConfig,\n",
    ")\n",
    "\n",
    "dm = TopolocigalDataModule(TopologicalDataModuleConfig())\n",
    "\n",
    "for fullbatch in dm.train_dataloader():\n",
    "    break\n"
   ]
  },
  {
   "cell_type": "code",
   "execution_count": null,
   "metadata": {},
   "outputs": [],
   "source": []
  },
  {
   "cell_type": "code",
   "execution_count": 2,
   "metadata": {},
   "outputs": [
    {
     "data": {
      "application/vnd.jupyter.widget-view+json": {
       "model_id": "f8312bbcaf9648399db4c77f4960c21b",
       "version_major": 2,
       "version_minor": 0
      },
      "text/plain": [
       "Widget(value='<iframe src=\"http://localhost:64311/index.html?ui=P_0x1bc7356c190_0&reconnect=auto\" class=\"pyvis…"
      ]
     },
     "metadata": {},
     "output_type": "display_data"
    }
   ],
   "source": [
    "\n",
    "\n",
    "pl = pv.Plotter(shape=(8, 8), window_size=[800, 800])\n",
    "\n",
    "for batch_idx in range(8):\n",
    "    batch = fullbatch[8 * batch_idx : :]\n",
    "\n",
    "    for idx in range(8):\n",
    "        points = batch[idx].x.cpu().detach().numpy().reshape(-1, 3)\n",
    "        pl.subplot(batch_idx, idx)\n",
    "        actor = pl.add_points(\n",
    "            points,\n",
    "            style=\"points\",\n",
    "            emissive=False,\n",
    "            show_scalar_bar=False,\n",
    "            render_points_as_spheres=True,\n",
    "            scalars=points[:, 2],\n",
    "            point_size=3,\n",
    "            ambient=0.2,\n",
    "            diffuse=0.8,\n",
    "            specular=0.8,\n",
    "            specular_power=40,\n",
    "            smooth_shading=True,\n",
    "        )\n",
    "\n",
    "\n",
    "pl.background_color = \"k\"\n",
    "pl.link_views()\n",
    "pl.camera_position = \"yz\"\n",
    "pos = pl.camera.position\n",
    "pl.camera.position = (pos[0], pos[1], pos[2] + 3)\n",
    "pl.camera.azimuth = -45\n",
    "pl.camera.elevation = 10\n",
    "\n",
    "# create a top down light\n",
    "light = pv.Light(\n",
    "    position=(0, 0, 3), positional=True, cone_angle=50, exponent=20, intensity=0.2\n",
    ")\n",
    "pl.add_light(light)\n",
    "pl.camera.zoom(0.8)\n",
    "pl.show()\n",
    "\n"
   ]
  },
  {
   "cell_type": "code",
   "execution_count": 3,
   "metadata": {},
   "outputs": [
    {
     "data": {
      "text/plain": [
       "torch.Size([256, 128, 3])"
      ]
     },
     "execution_count": 3,
     "metadata": {},
     "output_type": "execute_result"
    }
   ],
   "source": [
    "import torch\n",
    "# x = torch.zeros(size=(20,20))\n",
    "# x[10,10] = 1\n",
    "# x[10,11] = 1\n",
    "# x[11,11] = 1\n",
    "# len(torch.nonzero(x, as_tuple=True)[0])\n",
    "\n",
    "\n",
    "x = torch.rand(size=(256,128,2))\n",
    "\n",
    "\n",
    "\n",
    "torch.cat([x, torch.zeros(size=(256,128,1))],dim=-1).shape\n"
   ]
  },
  {
   "cell_type": "code",
   "execution_count": 4,
   "metadata": {},
   "outputs": [
    {
     "name": "stderr",
     "output_type": "stream",
     "text": [
      "C:\\Users\\ernst\\AppData\\Local\\Packages\\PythonSoftwareFoundation.Python.3.10_qbz5n2kfra8p0\\LocalCache\\local-packages\\Python310\\site-packages\\torch\\functional.py:504: UserWarning: torch.meshgrid: in an upcoming release, it will be required to pass the indexing argument. (Triggered internally at ..\\aten\\src\\ATen\\native\\TensorShape.cpp:3527.)\n",
      "  return _VF.meshgrid(tensors, **kwargs)  # type: ignore[attr-defined]\n"
     ]
    }
   ],
   "source": [
    "from datasets.mnist import MnistDataModule, MnistDataModuleConfig\n",
    "\n",
    "\n",
    "dm = MnistDataModule(MnistDataModuleConfig(root=\"./data/mnistpointcloud\"))"
   ]
  },
  {
   "cell_type": "code",
   "execution_count": 5,
   "metadata": {},
   "outputs": [
    {
     "data": {
      "image/png": "[encoded data removed]",
      "text/plain": [
       "<Figure size 1600x200 with 8 Axes>"
      ]
     },
     "metadata": {},
     "output_type": "display_data"
    }
   ],
   "source": [
    "import matplotlib.pyplot as plt\n",
    "\n",
    "for batch in dm.train_dataloader():\n",
    "    break\n",
    "\n",
    "fig,axes = plt.subplots(1,8,figsize=(16,2))\n",
    "\n",
    "\n",
    "for idx, ax in enumerate(axes):\n",
    "    pts = batch[idx].x.numpy()\n",
    "    ax.axis(\"off\")\n",
    "    ax.scatter(pts[:,0],pts[:,1])\n",
    "    ax.set_xlim([-1,1])\n",
    "    ax.set_ylim([-1,1])\n",
    "    \n",
    "\n",
    "\n"
   ]
  },
  {
   "cell_type": "code",
   "execution_count": 1,
   "metadata": {},
   "outputs": [
    {
     "name": "stderr",
     "output_type": "stream",
     "text": [
      "Processing...\n",
      "Done!\n"
     ]
    }
   ],
   "source": [
    "from datasets.tu import TUDataModule, TUBZRConfig\n",
    "\n",
    "\n",
    "dm = TUDataModule(TUBZRConfig(use_node_attr=True))\n",
    "\n",
    "\n",
    "dl = dm.train_dataloader()\n",
    "for batch in dl:\n",
    "    break\n"
   ]
  },
  {
   "cell_type": "code",
   "execution_count": 2,
   "metadata": {},
   "outputs": [],
   "source": [
    "dims = []\n",
    "for batch in dl:\n",
    "    for idx in range(batch.batch.max()):\n",
    "        dims.append(batch[idx].x.shape[0])"
   ]
  },
  {
   "cell_type": "code",
   "execution_count": 6,
   "metadata": {},
   "outputs": [
    {
     "data": {
      "text/plain": [
       "tensor(0.9899)"
      ]
     },
     "execution_count": 6,
     "metadata": {},
     "output_type": "execute_result"
    }
   ],
   "source": [
    "batch[0].x.norm(dim=1).max()"
   ]
  }
 ],
 "metadata": {
  "kernelspec": {
   "display_name": "Python 3",
   "language": "python",
   "name": "python3"
  },
  "language_info": {
   "codemirror_mode": {
    "name": "ipython",
    "version": 3
   },
   "file_extension": ".py",
   "mimetype": "text/x-python",
   "name": "python",
   "nbconvert_exporter": "python",
   "pygments_lexer": "ipython3",
   "version": "3.10.11"
  }
 },
 "nbformat": 4,
 "nbformat_minor": 2
}
