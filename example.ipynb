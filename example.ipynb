{
 "cells": [
  {
   "cell_type": "code",
   "execution_count": 1,
   "metadata": {},
   "outputs": [],
   "source": [
    "import torch\n",
    "import torch_geometric\n",
    "from torch_geometric.data import Batch, Data\n",
    "\n",
    "from layers.ect import EctLayer\n",
    "from layers.config import EctConfig\n"
   ]
  },
  {
   "cell_type": "code",
   "execution_count": null,
   "metadata": {},
   "outputs": [],
   "source": [
    "NUM_PTS = 100\n",
    "DEVICE = 'cuda:0'\n",
    "NUM_THETAS = 64\n",
    "\n",
    "V = torch.vstack(\n",
    "    [\n",
    "        torch.sin(torch.linspace(0, 2 * torch.pi, NUM_THETAS,device=DEVICE)),\n",
    "        torch.cos(torch.linspace(0, 2 * torch.pi, NUM_THETAS,device=DEVICE)),\n",
    "    ]\n",
    ")\n",
    "\n",
    "\n",
    "CONFIG = EctConfig(num_thetas=NUM_THETAS,bump_steps=NUM_THETAS,normalized=True,device=DEVICE)\n",
    "ectlayer = EctLayer(config=CONFIG, v=V)\n",
    "\n",
    "\n",
    "\n",
    "test_batch = Batch.from_data_list(\n",
    "    [\n",
    "        Data(x=torch.tensor([[0.4,0.7],[0.4,0.7]])),\n",
    "        Data(x=torch.tensor([[-0.4,-0.7]]))\n",
    "    ]\n",
    ").to(DEVICE)\n",
    "\n",
    "res = ectlayer(test_batch)"
   ]
  }
 ],
 "metadata": {
  "kernelspec": {
   "display_name": "Python 3",
   "language": "python",
   "name": "python3"
  },
  "language_info": {
   "codemirror_mode": {
    "name": "ipython",
    "version": 3
   },
   "file_extension": ".py",
   "mimetype": "text/x-python",
   "name": "python",
   "nbconvert_exporter": "python",
   "pygments_lexer": "ipython3",
   "version": "3.10.11"
  }
 },
 "nbformat": 4,
 "nbformat_minor": 2
}
