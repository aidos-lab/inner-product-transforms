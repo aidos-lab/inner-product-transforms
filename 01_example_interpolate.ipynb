{
 "cells": [
  {
   "cell_type": "code",
   "execution_count": 2,
   "metadata": {},
   "outputs": [
    {
     "name": "stderr",
     "output_type": "stream",
     "text": [
      "c:\\Users\\Ernst\\AppData\\Local\\Programs\\Python\\Python310\\lib\\site-packages\\torch\\functional.py:504: UserWarning: torch.meshgrid: in an upcoming release, it will be required to pass the indexing argument. (Triggered internally at ..\\aten\\src\\ATen\\native\\TensorShape.cpp:3527.)\n",
      "  return _VF.meshgrid(tensors, **kwargs)  # type: ignore[attr-defined]\n"
     ]
    }
   ],
   "source": [
    "import torch\n",
    "import torch.nn as nn\n",
    "from torch_geometric.data import Batch, Data\n",
    "\n",
    "import numpy as np\n",
    "import matplotlib.pyplot as plt\n",
    "\n",
    "from layers.ect import EctLayer\n",
    "from layers.config import EctConfig\n",
    "\n",
    "\n",
    "from datasets.mnist import MnistDataModule \n",
    "from datasets.config import MnistDataModuleConfig\n",
    "\n",
    "from pytranskit.optrans.continuous.cdt import CDT\n",
    "from matplotlib import animation\n",
    "plt.rcParams[\"animation.html\"] = \"jshtml\"\n",
    "\n",
    "\n",
    "dataset = MnistDataModule(MnistDataModuleConfig())\n",
    "\n"
   ]
  },
  {
   "cell_type": "code",
   "execution_count": 3,
   "metadata": {},
   "outputs": [],
   "source": [
    "NUM_PTS = 100\n",
    "DEVICE = 'cuda:0'\n",
    "NUM_THETAS = 64\n",
    "\n",
    "V = torch.vstack(\n",
    "    [\n",
    "        torch.sin(torch.linspace(0, 2 * torch.pi, NUM_THETAS,device=DEVICE)),\n",
    "        torch.cos(torch.linspace(0, 2 * torch.pi, NUM_THETAS,device=DEVICE)),\n",
    "    ]\n",
    ")\n",
    "\n",
    "\n",
    "CONFIG = EctConfig(num_thetas=NUM_THETAS,bump_steps=NUM_THETAS,normalized=True,device=DEVICE)\n"
   ]
  },
  {
   "cell_type": "markdown",
   "metadata": {},
   "source": [
    "# Interpolation"
   ]
  },
  {
   "cell_type": "code",
   "execution_count": 4,
   "metadata": {},
   "outputs": [],
   "source": [
    "def cdt_interpolation(ect_start, ect_end,steps=100):\n",
    "    ect_start = ect_start.cpu().squeeze().detach().numpy()\n",
    "    ect_end = ect_end.cpu().squeeze().detach().numpy()\n",
    "    N=NUM_THETAS\n",
    "    x0 = np.linspace(0, 1, N)\n",
    "    I0= np.ones(x0.size)\n",
    "    x=np.linspace(0, 2, N)\n",
    "    num_thetas = NUM_THETAS\n",
    "    ect = np.zeros((num_thetas,num_thetas))\n",
    "    I1 = abs(ect_start) + 1e-7\n",
    "    I2 = abs(ect_end) + 1e-7\n",
    "\n",
    "    I1 = I1/I1.sum(axis=0)\n",
    "    I2 = I2/I2.sum(axis=0)\n",
    "    \n",
    "    taus = np.linspace(0,1,steps)\n",
    "    cdt1 = CDT()\n",
    "    inter = []\n",
    "\n",
    "    for tau in taus: \n",
    "        for idx in range(num_thetas):\n",
    "            # Compute the forward transform\n",
    "            I1_hat, _, _ = cdt1.forward(x0, I0, x, I1[:,idx], rm_edge=False)\n",
    "            I2_hat, _, _ = cdt1.forward(x0, I0, x, I2[:,idx], rm_edge=False)\n",
    "\n",
    "\n",
    "            I_hat = ( tau ) * I1_hat + ( 1 - tau ) * I2_hat  \n",
    "            I_recon = cdt1.inverse(I_hat, I0, x)\n",
    "\n",
    "            ect[:,idx] = I_recon\n",
    "            \n",
    "        inter.append(ect)\n",
    "        ect = np.zeros((num_thetas,num_thetas))\n",
    "    return torch.tensor(np.stack(inter).cumsum(axis=1),dtype=torch.float,device=DEVICE)\n",
    "\n",
    "\n",
    "def linear_interpolation(ect_start, ect_end,steps=100):\n",
    "    taus = torch.linspace(0,1,steps=100,device=DEVICE).unsqueeze(1).unsqueeze(1)\n",
    "    return taus * ect_start.unsqueeze(0).repeat(100,1,1) + (1-taus) *  ect_end.unsqueeze(0).repeat(100,1,1)\n",
    "    \n",
    "\n",
    "\n"
   ]
  },
  {
   "cell_type": "code",
   "execution_count": 5,
   "metadata": {},
   "outputs": [],
   "source": [
    "for test_batch in dataset.train_dataloader():\n",
    "    break\n",
    "\n",
    "derlayer = EctLayer(config = EctConfig(num_thetas=NUM_THETAS,bump_steps=NUM_THETAS,device=DEVICE,ect_type=\"points_derivative\",normalized=True),v=V)\n",
    "ectlayer = EctLayer(config = EctConfig(num_thetas=NUM_THETAS,bump_steps=NUM_THETAS,device=DEVICE,ect_type=\"points\",normalized=True),v=V)\n",
    "\n",
    "ect_batch = derlayer(test_batch.to(DEVICE))\n"
   ]
  },
  {
   "cell_type": "code",
   "execution_count": 6,
   "metadata": {},
   "outputs": [],
   "source": [
    "test_batch = Batch.from_data_list(\n",
    "    [\n",
    "        Data(x=torch.tensor([[0.4,0.7],[0.4,0.7]])),\n",
    "        Data(x=torch.tensor([[-0.4,-0.7]]))\n",
    "    ]\n",
    ").to(DEVICE)\n",
    "\n",
    "res = ectlayer(test_batch)\n",
    "res_cdt = derlayer(test_batch)\n",
    "\n",
    "interp_linear = linear_interpolation(res[0],res[1].squeeze()).cpu()\n",
    "interp_cdt = cdt_interpolation(res_cdt[0],res_cdt[1].squeeze()).cpu()\n",
    "\n",
    "\n",
    "# for idx, img in enumerate(interp): \n",
    "#     plt.imsave(f\"./ect/{idx}.jpg\",img.cpu().squeeze(),dpi=1000)\n",
    "\n",
    "# import imageio\n",
    "# images = []\n",
    "# for idx in range(100):\n",
    "#     images.append(imageio.imread(f\"./ect/{idx}.jpg\"))\n",
    "# imageio.mimsave('movie_mnist_cdt.gif', images)"
   ]
  },
  {
   "cell_type": "code",
   "execution_count": 7,
   "metadata": {},
   "outputs": [
    {
     "data": {
      "image/png": "[encoded data removed]",
      "text/plain": [
       "<Figure size 640x480 with 2 Axes>"
      ]
     },
     "metadata": {},
     "output_type": "display_data"
    }
   ],
   "source": [
    "# First set up the figure, the axis, and the plot element we want to animate\n",
    "\n",
    "fig, axes = plt.subplots(nrows=1, ncols=2)\n",
    "plt.subplots_adjust(wspace=.1,hspace=.1)\n",
    "# axes.set_aspect(1)\n",
    "\n",
    "# initialization function: plot the background of each frame\n",
    "def init():\n",
    "    axes[0].imshow(interp_linear[0])\n",
    "    axes[1].imshow(interp_cdt[0])\n",
    "    return None,\n",
    "\n",
    "\n",
    "# animation function.  This is called sequentially\n",
    "def animate(i):\n",
    "    axes[0].imshow(interp_linear[i])\n",
    "    axes[1].imshow(interp_cdt[i])\n",
    "    \n",
    "\n",
    "# call the animator.  blit=True means only re-draw the parts that have changed.\n",
    "anim = animation.FuncAnimation(fig, \n",
    "                               animate, \n",
    "                               init_func=init,\n",
    "                               frames=100, \n",
    "                               interval=80\n",
    "                               )\n",
    "\n",
    "# save the animation as an mp4.  This requires ffmpeg or mencoder to be\n",
    "# installed.  The extra_args ensure that the x264 codec is used, so that\n",
    "# the video can be embedded in html5.  You may need to adjust this for\n",
    "# your system: for more information, see\n",
    "# http://matplotlib.sourceforge.net/api/animation_api.html\n",
    "# anim.save('basic_animation.mp4', fps=30, extra_args=['-vcodec', 'libx264'])\n",
    "\n",
    "\n",
    "anim.save('ect_interp.mp4', fps=30, extra_args=['-vcodec', 'libx264'])\n",
    "\n",
    "\n"
   ]
  },
  {
   "cell_type": "code",
   "execution_count": null,
   "metadata": {},
   "outputs": [],
   "source": [
    "\n",
    "# for idx in range(100):\n",
    "#     # cent = internal_batch.centers[idx]\n",
    "    \n",
    "#     fig, axes = plt.subplots(nrows=1, ncols=2, figsize=(12,6))\n",
    "\n",
    "#     pts = model.encoder(interp[idx].view(1,NUM_THETAS,NUM_THETAS)).view(-1,2).cpu().detach().numpy()\n",
    "\n",
    "#     ax = axes[0]\n",
    "#     ax.axis(\"off\")\n",
    "#     ax.scatter(pts[:,0],pts[:,1])\n",
    "\n",
    "#     ax = axes[1]\n",
    "#     ax.axis(\"off\")\n",
    "#     ax.imshow(interp[idx].cpu().squeeze().detach().numpy())\n",
    "\n",
    "#     fig.savefig(f\"./imgs/{idx}.jpg\")"
   ]
  },
  {
   "cell_type": "code",
   "execution_count": 143,
   "metadata": {},
   "outputs": [
    {
     "name": "stderr",
     "output_type": "stream",
     "text": [
      "C:\\Users\\Ernst\\AppData\\Local\\Temp\\ipykernel_11100\\2585850001.py:4: DeprecationWarning: Starting with ImageIO v3 the behavior of this function will switch to that of iio.v3.imread. To keep the current behavior (and make this warning disappear) use `import imageio.v2 as imageio` or call `imageio.v2.imread` directly.\n",
      "  images.append(imageio.imread(f\"./ect/{idx}.jpg\"))\n"
     ]
    }
   ],
   "source": [
    "\n",
    "\n"
   ]
  },
  {
   "cell_type": "code",
   "execution_count": null,
   "metadata": {},
   "outputs": [],
   "source": []
  },
  {
   "cell_type": "code",
   "execution_count": null,
   "metadata": {},
   "outputs": [],
   "source": []
  },
  {
   "cell_type": "code",
   "execution_count": null,
   "metadata": {},
   "outputs": [],
   "source": []
  },
  {
   "cell_type": "code",
   "execution_count": null,
   "metadata": {},
   "outputs": [],
   "source": []
  }
 ],
 "metadata": {
  "kernelspec": {
   "display_name": "Python 3",
   "language": "python",
   "name": "python3"
  },
  "language_info": {
   "codemirror_mode": {
    "name": "ipython",
    "version": 3
   },
   "file_extension": ".py",
   "mimetype": "text/x-python",
   "name": "python",
   "nbconvert_exporter": "python",
   "pygments_lexer": "ipython3",
   "version": "3.10.11"
  }
 },
 "nbformat": 4,
 "nbformat_minor": 2
}
